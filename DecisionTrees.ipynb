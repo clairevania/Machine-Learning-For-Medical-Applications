{
  "cells": [
    {
      "cell_type": "markdown",
      "metadata": {
        "id": "eoJKQZR2N_dl"
      },
      "source": [
        "# Decision trees - The CART algorithm\n",
        "\n",
        "In this project, we will be programming our own decision tree CART algorithm with Gini criterion. \n",
        "\n",
        "\n",
        "To evaluate the algorithm we will be working with the [Early stage diabetes risk prediction dataset](https://archive.ics.uci.edu/ml/datasets/Early+stage+diabetes+risk+prediction+dataset.) containing predictor variables about patients with diabetes and controls. \n"
      ]
    },
    {
      "cell_type": "markdown",
      "metadata": {
        "id": "1eoCMLobShUO"
      },
      "source": [
        "**0. Moving the lab to your folder**\n",
        "\n",
        "Copy this notebook to your personal directory"
      ]
    },
    {
      "cell_type": "code",
      "execution_count": 121,
      "metadata": {
        "id": "UfNdDiRiOGsi"
      },
      "outputs": [],
      "source": [
        "# Library import.\n",
        "import urllib.request\n",
        "import pandas as pd\n",
        "from pandas.api.types import is_numeric_dtype\n",
        "import numpy as np"
      ]
    },
    {
      "cell_type": "markdown",
      "metadata": {
        "id": "udZpB3DuxZ7M"
      },
      "source": [
        "**1. Data Loading**"
      ]
    },
    {
      "cell_type": "code",
      "execution_count": 122,
      "metadata": {
        "id": "7rZ6eVhaOHr9"
      },
      "outputs": [],
      "source": [
        "sData='http://archive.ics.uci.edu/ml/machine-learning-databases/00529/diabetes_data_upload.csv'\n",
        "urllib.request.urlretrieve(sData,'./datafile.csv') # The data is stored in your drive folder under the name 'datafile.csv'\n",
        "df=pd.read_csv('./datafile.csv')"
      ]
    },
    {
      "cell_type": "code",
      "execution_count": 123,
      "metadata": {
        "colab": {
          "base_uri": "https://localhost:8080/",
          "height": 305
        },
        "id": "VksvkUM6OLOp",
        "outputId": "8c1a392f-c674-497e-dce6-6e282bcd8888"
      },
      "outputs": [
        {
          "data": {
            "text/html": [
              "<div>\n",
              "<style scoped>\n",
              "    .dataframe tbody tr th:only-of-type {\n",
              "        vertical-align: middle;\n",
              "    }\n",
              "\n",
              "    .dataframe tbody tr th {\n",
              "        vertical-align: top;\n",
              "    }\n",
              "\n",
              "    .dataframe thead th {\n",
              "        text-align: right;\n",
              "    }\n",
              "</style>\n",
              "<table border=\"1\" class=\"dataframe\">\n",
              "  <thead>\n",
              "    <tr style=\"text-align: right;\">\n",
              "      <th></th>\n",
              "      <th>Age</th>\n",
              "      <th>Gender</th>\n",
              "      <th>Polyuria</th>\n",
              "      <th>Polydipsia</th>\n",
              "      <th>sudden weight loss</th>\n",
              "      <th>weakness</th>\n",
              "      <th>Polyphagia</th>\n",
              "      <th>Genital thrush</th>\n",
              "      <th>visual blurring</th>\n",
              "      <th>Itching</th>\n",
              "      <th>Irritability</th>\n",
              "      <th>delayed healing</th>\n",
              "      <th>partial paresis</th>\n",
              "      <th>muscle stiffness</th>\n",
              "      <th>Alopecia</th>\n",
              "      <th>Obesity</th>\n",
              "      <th>Class</th>\n",
              "    </tr>\n",
              "  </thead>\n",
              "  <tbody>\n",
              "    <tr>\n",
              "      <th>0</th>\n",
              "      <td>40</td>\n",
              "      <td>Male</td>\n",
              "      <td>No</td>\n",
              "      <td>Yes</td>\n",
              "      <td>No</td>\n",
              "      <td>Yes</td>\n",
              "      <td>No</td>\n",
              "      <td>No</td>\n",
              "      <td>No</td>\n",
              "      <td>Yes</td>\n",
              "      <td>No</td>\n",
              "      <td>Yes</td>\n",
              "      <td>No</td>\n",
              "      <td>Yes</td>\n",
              "      <td>Yes</td>\n",
              "      <td>Yes</td>\n",
              "      <td>Positive</td>\n",
              "    </tr>\n",
              "    <tr>\n",
              "      <th>1</th>\n",
              "      <td>58</td>\n",
              "      <td>Male</td>\n",
              "      <td>No</td>\n",
              "      <td>No</td>\n",
              "      <td>No</td>\n",
              "      <td>Yes</td>\n",
              "      <td>No</td>\n",
              "      <td>No</td>\n",
              "      <td>Yes</td>\n",
              "      <td>No</td>\n",
              "      <td>No</td>\n",
              "      <td>No</td>\n",
              "      <td>Yes</td>\n",
              "      <td>No</td>\n",
              "      <td>Yes</td>\n",
              "      <td>No</td>\n",
              "      <td>Positive</td>\n",
              "    </tr>\n",
              "    <tr>\n",
              "      <th>2</th>\n",
              "      <td>41</td>\n",
              "      <td>Male</td>\n",
              "      <td>Yes</td>\n",
              "      <td>No</td>\n",
              "      <td>No</td>\n",
              "      <td>Yes</td>\n",
              "      <td>Yes</td>\n",
              "      <td>No</td>\n",
              "      <td>No</td>\n",
              "      <td>Yes</td>\n",
              "      <td>No</td>\n",
              "      <td>Yes</td>\n",
              "      <td>No</td>\n",
              "      <td>Yes</td>\n",
              "      <td>Yes</td>\n",
              "      <td>No</td>\n",
              "      <td>Positive</td>\n",
              "    </tr>\n",
              "    <tr>\n",
              "      <th>3</th>\n",
              "      <td>45</td>\n",
              "      <td>Male</td>\n",
              "      <td>No</td>\n",
              "      <td>No</td>\n",
              "      <td>Yes</td>\n",
              "      <td>Yes</td>\n",
              "      <td>Yes</td>\n",
              "      <td>Yes</td>\n",
              "      <td>No</td>\n",
              "      <td>Yes</td>\n",
              "      <td>No</td>\n",
              "      <td>Yes</td>\n",
              "      <td>No</td>\n",
              "      <td>No</td>\n",
              "      <td>No</td>\n",
              "      <td>No</td>\n",
              "      <td>Positive</td>\n",
              "    </tr>\n",
              "    <tr>\n",
              "      <th>4</th>\n",
              "      <td>60</td>\n",
              "      <td>Male</td>\n",
              "      <td>Yes</td>\n",
              "      <td>Yes</td>\n",
              "      <td>Yes</td>\n",
              "      <td>Yes</td>\n",
              "      <td>Yes</td>\n",
              "      <td>No</td>\n",
              "      <td>Yes</td>\n",
              "      <td>Yes</td>\n",
              "      <td>Yes</td>\n",
              "      <td>Yes</td>\n",
              "      <td>Yes</td>\n",
              "      <td>Yes</td>\n",
              "      <td>Yes</td>\n",
              "      <td>Yes</td>\n",
              "      <td>Positive</td>\n",
              "    </tr>\n",
              "  </tbody>\n",
              "</table>\n",
              "</div>"
            ],
            "text/plain": [
              "   Age Gender Polyuria Polydipsia sudden weight loss weakness Polyphagia  \\\n",
              "0   40   Male       No        Yes                 No      Yes         No   \n",
              "1   58   Male       No         No                 No      Yes         No   \n",
              "2   41   Male      Yes         No                 No      Yes        Yes   \n",
              "3   45   Male       No         No                Yes      Yes        Yes   \n",
              "4   60   Male      Yes        Yes                Yes      Yes        Yes   \n",
              "\n",
              "  Genital thrush visual blurring Itching Irritability delayed healing  \\\n",
              "0             No              No     Yes           No             Yes   \n",
              "1             No             Yes      No           No              No   \n",
              "2             No              No     Yes           No             Yes   \n",
              "3            Yes              No     Yes           No             Yes   \n",
              "4             No             Yes     Yes          Yes             Yes   \n",
              "\n",
              "  partial paresis muscle stiffness Alopecia Obesity     Class  \n",
              "0              No              Yes      Yes     Yes  Positive  \n",
              "1             Yes               No      Yes      No  Positive  \n",
              "2              No              Yes      Yes      No  Positive  \n",
              "3              No               No       No      No  Positive  \n",
              "4             Yes              Yes      Yes     Yes  Positive  "
            ]
          },
          "execution_count": 123,
          "metadata": {},
          "output_type": "execute_result"
        }
      ],
      "source": [
        "df = df.rename(columns={\"class\": \"Class\"}) #Renaming column name 'class' to 'Class'\n",
        "df.head()"
      ]
    },
    {
      "cell_type": "code",
      "execution_count": 124,
      "metadata": {
        "colab": {
          "base_uri": "https://localhost:8080/"
        },
        "id": "8AkBoxoEON-F",
        "outputId": "09bcec40-f15e-404c-9bc7-b7e31e0fb78e"
      },
      "outputs": [
        {
          "name": "stdout",
          "output_type": "stream",
          "text": [
            "Age                     45\n",
            "Gender                Male\n",
            "Polyuria                No\n",
            "Polydipsia              No\n",
            "sudden weight loss     Yes\n",
            "weakness               Yes\n",
            "Polyphagia             Yes\n",
            "Genital thrush         Yes\n",
            "visual blurring         No\n",
            "Itching                Yes\n",
            "Irritability            No\n",
            "delayed healing        Yes\n",
            "partial paresis         No\n",
            "muscle stiffness        No\n",
            "Alopecia                No\n",
            "Obesity                 No\n",
            "Name: 3, dtype: object\n"
          ]
        }
      ],
      "source": [
        "series=df.iloc[3,:-1] # The last column is removed (it's the class)\n",
        "print(series)"
      ]
    },
    {
      "cell_type": "markdown",
      "metadata": {
        "id": "CQUNzL0YyQDR"
      },
      "source": [
        "**2. Dataset descriptors**\n",
        "**Data and notation used in the algorithm:**\n",
        "X is the training subset containing N observations\n",
        "Each observation, x_n is a vector containing the predictor variables (size M) for each observation.\n",
        "y_n is the label of x_n\n",
        "J: total number of classes\n",
        "N: total number of observations (number of training vectors)\n",
        "M: number of predictor variables (feature vector length)\n",
        "\n",
        "**TASK 1:** In the next cell, we calculate N, M and J."
      ]
    },
    {
      "cell_type": "code",
      "execution_count": 125,
      "metadata": {
        "colab": {
          "base_uri": "https://localhost:8080/"
        },
        "id": "aOz9I9P8ORC6",
        "outputId": "359076ec-e1a9-427b-a28c-e0e9b2dedccb"
      },
      "outputs": [
        {
          "name": "stdout",
          "output_type": "stream",
          "text": [
            "Number of observations: 520\n",
            "Number of predictor variables: 16\n",
            "Number of classes: 2\n"
          ]
        }
      ],
      "source": [
        "#First steps: Determine the number of features, classes and observations \n",
        "N=len(df) # No. of Observations\n",
        "M=len(df.columns[:-1]) # No. of predictor variables\n",
        "J=len(df.Class.unique()) # No. of classes\n",
        "\n",
        "print('Number of observations: '+str(N))\n",
        "print('Number of predictor variables: '+str(M))\n",
        "print('Number of classes: '+str(J))"
      ]
    },
    {
      "cell_type": "markdown",
      "metadata": {
        "id": "VA7EKVC2zPl6"
      },
      "source": [
        "**TASK 2:** Splitting the data into, approx, 80% training and 20% testing (choosing the first 80% observations as training and the rest as testing)"
      ]
    },
    {
      "cell_type": "code",
      "execution_count": 126,
      "metadata": {
        "id": "_UNWqKZ9dubC"
      },
      "outputs": [],
      "source": [
        "# Split the data into, approx, 80% training and 20% testing\n",
        "dfTrain=df.head(n=int((len(df)*0.8))) # Training data set\n",
        "dfTest = df[max(dfTrain.index)+1:] # Testing data set\n"
      ]
    },
    {
      "cell_type": "markdown",
      "metadata": {
        "id": "6U5_jLb50IQz"
      },
      "source": [
        "# 3. The CART Algorithm\n",
        "*1.\tFind each predictor’s best split:*\n",
        "\n",
        "* a.\tDetermine if the predictor is categorical or numerical\n",
        "\n",
        "\n",
        "* b.\tFor each predictor, obtain unique values. \n",
        "\n",
        "* c.\tFor each predictor: using the unique values, go through each value to examine each predictor’s possible split point\n",
        "\n",
        "\n",
        "* - i.\tThe best split point (threshold) is the one that maximizes the splitting criterion1 (impurity gain) the most.\n",
        "\n",
        "* - ii.\tIn categorical predictors, we will have to consider a possible node for each category.\n",
        "\n",
        "\n",
        "*2.\tFind the predictor that provides the best split:*\n",
        "\n",
        "* a.\tSelect the predictor that maximizes the splitting criterion (the one that produces the highest impurity gain.\n",
        "\n",
        "\n",
        "*3.\tSplit the data X into two new nodes using the split point calculated in point 1 for the predictor selected in point 2.*\n",
        "\n",
        "\n",
        "*4.\tRepeat point 1 for each branch if stopping rules are not satisfied:*\n",
        "\n",
        "* a.\tStopping rules: \n",
        "* * i.\tMaximum tree depth (maximum number of nodes in a row)\n",
        "* * ii.\tAll the remaining training observations in a resulting branch belong to a single class (maximum purity)\n",
        "* * iii.\tAll observations in a node have the same predictor’s values: it is not possible to split more. \n",
        "* * iv.\tThe node size is less than the minimum node size (number of observations in a node)\n",
        "\n",
        "In the following cells, creating the functions required for each point.\n"
      ]
    },
    {
      "cell_type": "markdown",
      "metadata": {
        "id": "FX5LGvXt6oCX"
      },
      "source": [
        "**TASK 3:** 1.a.  Determining if the predictor is categorical or numerical"
      ]
    },
    {
      "cell_type": "code",
      "execution_count": 127,
      "metadata": {
        "id": "WMW-ldVNOVf2"
      },
      "outputs": [],
      "source": [
        "# Finding if the predictor is categorical or numerical\n",
        "def is_numerical(df_inp):\n",
        "  is_numeric = [];\n",
        "  for i in range(len(df_inp.columns)):\n",
        "    is_numeric.append(is_numeric_dtype(df_inp.iloc[:,i]))\n",
        "  return is_numeric"
      ]
    },
    {
      "cell_type": "code",
      "execution_count": 128,
      "metadata": {
        "colab": {
          "base_uri": "https://localhost:8080/"
        },
        "id": "BQT1Yn2_ObHZ",
        "outputId": "5a4149b1-efe6-4ca0-f5d7-0753773db9f4"
      },
      "outputs": [
        {
          "data": {
            "text/plain": [
              "[True,\n",
              " False,\n",
              " False,\n",
              " False,\n",
              " False,\n",
              " False,\n",
              " False,\n",
              " False,\n",
              " False,\n",
              " False,\n",
              " False,\n",
              " False,\n",
              " False,\n",
              " False,\n",
              " False,\n",
              " False]"
            ]
          },
          "execution_count": 128,
          "metadata": {},
          "output_type": "execute_result"
        }
      ],
      "source": [
        "# Example\n",
        "is_numerical(dfTrain.iloc[:,:-1])"
      ]
    },
    {
      "cell_type": "markdown",
      "metadata": {
        "id": "nLWuABnBZANG"
      },
      "source": [
        "**TASK 4:** 1.b. b.\tFor each predictor, obtaining unique values (categories)"
      ]
    },
    {
      "cell_type": "code",
      "execution_count": 129,
      "metadata": {
        "id": "VlLFRlZEOd9Y"
      },
      "outputs": [],
      "source": [
        "#1.b Function to obtain categories per predictor \n",
        "def unique_values(df_inp,column):\n",
        "  categories = df_inp[column].unique()\n",
        "  return categories"
      ]
    },
    {
      "cell_type": "code",
      "execution_count": 130,
      "metadata": {
        "colab": {
          "base_uri": "https://localhost:8080/"
        },
        "id": "509AMNtyP5GL",
        "outputId": "e856b0e8-b3e4-4888-8413-d8a9e4f5d79e"
      },
      "outputs": [
        {
          "name": "stdout",
          "output_type": "stream",
          "text": [
            "['Male' 'Female']\n",
            "Male\n"
          ]
        }
      ],
      "source": [
        "#Example\n",
        "categories=unique_values(df,'Gender')\n",
        "print(categories)\n",
        "print(categories[0])"
      ]
    },
    {
      "cell_type": "markdown",
      "metadata": {
        "id": "DGV2wgW8Z2rj"
      },
      "source": [
        "**TASK 5:** 1.c.\tFor each predictor: using the unique values, going through each value to examine each predictor’s possible split point\n",
        "\n",
        "1. c. i. Searching for the best split point (threshold), the one that maximizes the splitting criterion1 (impurity gain) the most."
      ]
    },
    {
      "cell_type": "code",
      "execution_count": 131,
      "metadata": {
        "id": "udkwjKO6QDbr"
      },
      "outputs": [],
      "source": [
        "#1.c.i Generate the gini function that calculates impurity \n",
        "# Calculating impurity\n",
        "def impurity_gini(df_inp):\n",
        "  uni = df_inp[df_inp.columns[-1]].unique()\n",
        "  impurity = 0\n",
        "  if len(df_inp)==0:\n",
        "    postitive = negative = 0\n",
        "  else:\n",
        "    positive = len(df_inp[df_inp['Class']==uni[0]])/len(df_inp)\n",
        "    negative = len(df_inp[df_inp['Class']!=uni[0]])/len(df_inp)\n",
        "    impurity = 1 - (positive)**2-(negative)**2\n",
        "  return impurity\n",
        "\n",
        "# Calculating Gain\n",
        "def impurity_gain(df_inp, dfl, dfr):\n",
        "  impurity_total = impurity_gini(df_inp)\n",
        "  impurity_L = impurity_gini(dfl)\n",
        "  impurity_R = impurity_gini(dfr)\n",
        "  wL =len(dfl)/len(df_inp)\n",
        "  wR = len(dfr)/len(df_inp)\n",
        "  gain = impurity_total - (wL*impurity_L) - (wR*impurity_R)\n",
        "  return gain"
      ]
    },
    {
      "cell_type": "code",
      "execution_count": 132,
      "metadata": {
        "colab": {
          "base_uri": "https://localhost:8080/"
        },
        "id": "5gZgb4XOVvT2",
        "outputId": "49cce76e-801a-4f18-fb50-a0d3c2dbad8c"
      },
      "outputs": [
        {
          "data": {
            "text/plain": [
              "0.47337278106508873"
            ]
          },
          "execution_count": 132,
          "metadata": {},
          "output_type": "execute_result"
        }
      ],
      "source": [
        "impurity_gini(df)"
      ]
    },
    {
      "cell_type": "markdown",
      "metadata": {
        "id": "dlO2hSuubf4B"
      },
      "source": [
        "Expected output: 0.47337278106508873"
      ]
    },
    {
      "cell_type": "code",
      "execution_count": 133,
      "metadata": {
        "colab": {
          "base_uri": "https://localhost:8080/"
        },
        "id": "Zr7zqMj0Vwvz",
        "outputId": "dd77f36d-ff8e-4832-b6dc-e654d6a0af43"
      },
      "outputs": [
        {
          "data": {
            "text/plain": [
              "-0.47337278106508873"
            ]
          },
          "execution_count": 133,
          "metadata": {},
          "output_type": "execute_result"
        }
      ],
      "source": [
        "impurity_gain(df,df, df)"
      ]
    },
    {
      "cell_type": "markdown",
      "metadata": {
        "id": "hkX0wnf0gKvj"
      },
      "source": [
        "**TASK 6:** Searching for the split point (or threshold) that provides the highest impurity gain in numerical predictor variables (for instance, 'Age' is a numerical variable)."
      ]
    },
    {
      "cell_type": "code",
      "execution_count": 204,
      "metadata": {
        "id": "t_HzZaZEhlwm"
      },
      "outputs": [],
      "source": [
        "#1.c.i Numerical split analysis \n",
        "# Spliting Numerical Predictor\n",
        "from cmath import inf\n",
        "\n",
        "\n",
        "def numerical_max_search(df_inp, column):\n",
        "  ig_max = -inf\n",
        "  df_inp = df_inp.sort_values(by=[column])\n",
        "  for i in df_inp[column].unique():\n",
        "    dfl = df_inp[df_inp[column]<=i]\n",
        "    dfr = df_inp[df_inp[column]>i]\n",
        "    gain = impurity_gain(df_inp,dfl, dfr)\n",
        "    if gain > ig_max:\n",
        "      ig_max = gain\n",
        "      category_max = i\n",
        "  return ig_max, category_max"
      ]
    },
    {
      "cell_type": "code",
      "execution_count": 205,
      "metadata": {
        "colab": {
          "base_uri": "https://localhost:8080/"
        },
        "id": "uWf6DjxQi7ls",
        "outputId": "ce6a475e-e604-4674-8801-f26d0c0982b1"
      },
      "outputs": [
        {
          "data": {
            "text/plain": [
              "(0.015152664201645849, 34)"
            ]
          },
          "execution_count": 205,
          "metadata": {},
          "output_type": "execute_result"
        }
      ],
      "source": [
        "numerical_max_search(df, 'Age')"
      ]
    },
    {
      "cell_type": "markdown",
      "metadata": {
        "id": "qFPdcNYzfPxe"
      },
      "source": [
        "**TASK 7:** 1.c.\tFor each predictor: using the unique values, going through each value to examine each predictor’s possible split point\n",
        "\n",
        "1. c. ii.\tIn categorical predictors, we will have to consider a possible node for each category. This means that we have to perform a search of best split for each category. In the dataset that we are using, each of the categorical variables have only two possible categories (Yes or No - Male or Female). "
      ]
    },
    {
      "cell_type": "code",
      "execution_count": 206,
      "metadata": {
        "id": "rMgFaWs3WwOl"
      },
      "outputs": [],
      "source": [
        "# 1.c.ii Categorical split analysis (10 POINTS)\n",
        "# Spliting Categorical Predictor\n",
        "from cmath import inf\n",
        "\n",
        "\n",
        "def categorical_max_search(df_inp, column):\n",
        "  max = -inf\n",
        "  ig_max = 0\n",
        "  category_max = df_inp[column].unique()[0]\n",
        "\n",
        "  df_inp = df_inp.sort_values(by=[column])\n",
        "  df_inp[column].unique()\n",
        "  if len(df_inp[column].unique())>=2:\n",
        "    for x in df_inp[column].unique():\n",
        "      dfl = df_inp[df_inp[column]==x]\n",
        "      dfr = df_inp[df_inp[column]!=x]\n",
        "      if max < impurity_gain(df_inp,dfl, dfr):\n",
        "         max = impurity_gain(df_inp,dfl, dfr)\n",
        "         category_max = x\n",
        "         ig_max = max\n",
        "  else:\n",
        "    category_max = df_inp[column].unique()[0]\n",
        "    dfl = df_inp[df_inp[column]==category_max]\n",
        "    dfr = df_inp[df_inp[column]!=category_max]\n",
        "    max = impurity_gain(df_inp,dfl, dfr)\n",
        "    ig_max = max\n",
        "  return ig_max, category_max"
      ]
    },
    {
      "cell_type": "code",
      "execution_count": 207,
      "metadata": {
        "colab": {
          "base_uri": "https://localhost:8080/"
        },
        "id": "mgv0GgHVfAAI",
        "outputId": "8d229de1-c2b6-4a26-ce8f-2cf856963dd8"
      },
      "outputs": [
        {
          "data": {
            "text/plain": [
              "(0.199221516230269, 'No')"
            ]
          },
          "execution_count": 207,
          "metadata": {},
          "output_type": "execute_result"
        }
      ],
      "source": [
        "categorical_max_search(df, 'Polydipsia')"
      ]
    },
    {
      "cell_type": "markdown",
      "metadata": {
        "id": "yVvBZLAUhubb"
      },
      "source": [
        "**TASK 8:** 2.\tUsing the previous functions, finding the predictor that provides the best split: \n",
        "a.\tSelecting the predictor that maximizes the splitting criterion (the one that produces the highest impurity gain).\n"
      ]
    },
    {
      "cell_type": "code",
      "execution_count": 208,
      "metadata": {
        "id": "2kDBxHx1hQc6"
      },
      "outputs": [],
      "source": [
        "# 2.a Find predictor that provides best split \n",
        "# Finding predictor(Categorical or Numerical) that provides best split\n",
        "def find_max_predictor(df_inp):\n",
        "  Max_ig = 0\n",
        "  category = is_numerical(df_inp)\n",
        "  for i in range(len(category)-1):\n",
        "    if category[i]==False:\n",
        "      a,b = categorical_max_search(df_inp, df_inp.columns[i])\n",
        "      if a > Max_ig:\n",
        "        Max_ig = a\n",
        "        Max_predictor = df_inp.columns[i]\n",
        "        Max_category = b\n",
        "    else:\n",
        "      a,b = numerical_max_search(df_inp, df_inp.columns[i])\n",
        "      if a > Max_ig:\n",
        "        Max_ig = a\n",
        "        Max_predictor = df_inp.columns[i]\n",
        "        Max_category = b\n",
        "\n",
        "  return Max_ig, Max_predictor, Max_category"
      ]
    },
    {
      "cell_type": "code",
      "execution_count": 209,
      "metadata": {
        "colab": {
          "base_uri": "https://localhost:8080/"
        },
        "id": "Jq7XSA5JomDU",
        "outputId": "6862d26e-8f6e-4585-a429-96bc3ecfde62"
      },
      "outputs": [
        {
          "name": "stdout",
          "output_type": "stream",
          "text": [
            "Maximum Impurity Gain: 0.20991841189440502 obtained with the predictor Polyuria and category No\n"
          ]
        }
      ],
      "source": [
        "# Example\n",
        "Max_ig, Max_predictor, Max_category=find_max_predictor(df)\n",
        "print('Maximum Impurity Gain: ' +str(Max_ig) +' obtained with the predictor '+ Max_predictor +' and category ' +str(Max_category))"
      ]
    },
    {
      "cell_type": "markdown",
      "metadata": {
        "id": "PwHAx0GuoeP7"
      },
      "source": [
        "**TASK 9:** 3.\tSpliting any input data X (a dataframe) into two new nodes using the \n",
        "split point and predictor selected obtained with find_max_predictor."
      ]
    },
    {
      "cell_type": "code",
      "execution_count": 210,
      "metadata": {
        "id": "8p8ZPmXgeqyu"
      },
      "outputs": [],
      "source": [
        "# 3. Split data\n",
        "# Spliting the data into nodes\n",
        "def split_data(df_inp):\n",
        "  Max_ig, Max_predictor, Max_category=find_max_predictor(df_inp)\n",
        "  if is_numeric_dtype('Max_predictor')==True:\n",
        "    dfL = df_inp[df_inp[Max_predictor]<=Max_category]\n",
        "    dfR = df_inp[df_inp[Max_predictor]>Max_category]\n",
        "  else:\n",
        "    dfL = df_inp[df_inp[Max_predictor]==Max_category]\n",
        "    dfR = df_inp[df_inp[Max_predictor]!=Max_category]\n",
        "    dfL.drop([Max_predictor],axis=1)\n",
        "    if len(dfR[Max_predictor].unique()==1):\n",
        "      dfR.drop(columns=[Max_predictor])\n",
        "  return dfL,dfR, Max_predictor, Max_category"
      ]
    },
    {
      "cell_type": "code",
      "execution_count": 211,
      "metadata": {
        "colab": {
          "base_uri": "https://localhost:8080/"
        },
        "id": "LFde069petWc",
        "outputId": "80cf6db7-90c4-42e6-8ef9-ae2a9f43a2eb"
      },
      "outputs": [
        {
          "data": {
            "text/plain": [
              "0.20991841189440502"
            ]
          },
          "execution_count": 211,
          "metadata": {},
          "output_type": "execute_result"
        }
      ],
      "source": [
        "# This defines the first node of the tree for the df dataset\n",
        "dfL,dfR,predictor,treshold=split_data(df)\n",
        "# This calculates the Impurity Gain when going from the initial dataset (df) to \n",
        "# the left and right subsets\n",
        "impurity_gain(df,dfL,dfR)"
      ]
    },
    {
      "cell_type": "markdown",
      "metadata": {
        "id": "LR2-HNADqLX0"
      },
      "source": [
        "**Additional code:**\n",
        "The following function and classes serve to store information of the nodes and leaves."
      ]
    },
    {
      "cell_type": "code",
      "execution_count": 212,
      "metadata": {
        "id": "ep9MOdnZmzmd"
      },
      "outputs": [],
      "source": [
        "def classify_leaf(df_inp):\n",
        "  \"\"\" \n",
        "  Counts the number of observations per class (class probability) in the input df \n",
        "  This function serves to create the classification info stored in the leaf.\n",
        "  \"\"\"\n",
        "\n",
        "  classes=df_inp.iloc[:,-1] # Labels in df\n",
        "  classes_uni=classes.unique() # this variable contains the classes that exist in df\n",
        "  result={Tclass:(sum(classes==Tclass)/len(df_inp)) for Tclass in classes_uni} #proportion of observations per class\n",
        "  return result\n",
        "\n",
        "class tree_leaf:\n",
        "    \"\"\"\n",
        "    This class will contain the results of the leaf (ex: Positive: 0.8, Negative:0.2)\n",
        "    \"\"\"\n",
        "\n",
        "    def __init__(self, df_inp):\n",
        "        self.predictions = classify_leaf(df_inp)\n",
        "\n",
        "class tree_node:\n",
        "    \"\"\"\n",
        "    This class will contain the predictor and treshold of the node and a the two \n",
        "    nested nodes (left and right)\n",
        "    \"\"\"\n",
        "\n",
        "    def __init__(self,\n",
        "                 predictor,\n",
        "                 threshold,\n",
        "                 left_branch,\n",
        "                 right_branch):\n",
        "        self.predictor = predictor\n",
        "        self.threshold = threshold\n",
        "        self.left_branch = left_branch\n",
        "        self.right_branch = right_branch"
      ]
    },
    {
      "cell_type": "markdown",
      "metadata": {
        "id": "Mp94TI9HqXIL"
      },
      "source": [
        "**TASK 10:** Stopping rules. These rules will serve to decide when to stop looking for a node and create a leaf. Conventional algorithms might have more stopping rules, but we will restrict our rules to only four conditions. We will code the functions that check these rules.\n",
        "\n",
        "4.a.\tStopping rules:\n",
        "\n",
        "i.\tMaximum tree depth (maximum number of nodes in a row) (this will be checked in the main function)\n",
        "\n",
        "ii.\tAll the remaining training observations in a resulting branch belong to a single class (maximum purity)\n",
        "\n",
        "iii.\tAll observations in a node have the same predictor’s values: it is not possible to split more. \n",
        "\n",
        "iv.\tThe node size is less than the minimum node size (number of observations in a node)\n"
      ]
    },
    {
      "cell_type": "code",
      "execution_count": 213,
      "metadata": {
        "id": "im4FYiWyJPpe"
      },
      "outputs": [],
      "source": [
        "# check stopping rules \n",
        "\n",
        "#4.a.ii\n",
        "# Checking if all the remaining training obervations in a resulting branch belong to a single class\n",
        "def check_impurity(df_inp):\n",
        "  #returns TRUE if immpurity of the data in df is equal to 0.\n",
        "  if impurity_gini(df_inp)==0:\n",
        "    return True\n",
        "  else:\n",
        "    return False\n",
        "\n",
        "#4.a.iii\n",
        "#Checking if it is not possible to split anymore\n",
        "def check_predictor(df_inp):\n",
        "  return len(df_inp.Class.unique()) ==1 \n",
        "  \n",
        "  \n",
        "#4.a.iv\n",
        "#Checking if node size is less than minimum node size\n",
        "def check_node_length(df_inp, min_partition_length):\n",
        "  #returns TRUE if the number of observations in df is less than min_partition_length\n",
        "    if len(df_inp)<min_partition_length:\n",
        "      return True\n",
        "    else:\n",
        "      return False"
      ]
    },
    {
      "cell_type": "markdown",
      "metadata": {
        "id": "2GhcHKnCrh9Q"
      },
      "source": [
        "**End: Train the tree**\n",
        "\n",
        "The following functions should train and evaluate a decision tree. \n",
        "\n",
        "**TASK 11:** Coding the training of the right (false) branch"
      ]
    },
    {
      "cell_type": "code",
      "execution_count": 214,
      "metadata": {
        "id": "joJ0X6aJJClU"
      },
      "outputs": [],
      "source": [
        "# train the tree  \n",
        "def train_tree_mlma(df_inp, tree_depth=0, min_partition_length=2, max_tree_depth=200):\n",
        "\n",
        "  dfL,dfR,predictor,threshold=split_data(df_inp)\n",
        "  tree_depth+=1 #the tree depth in this path is extended\n",
        "  print('Tree depth: ' +str(tree_depth))\n",
        "  #tree_depth==max_tree_depth checks condition 4.a.i\n",
        "  #Left branch (true)\n",
        "  if check_impurity(dfL) or check_predictor(dfL) or check_node_length(dfL,min_partition_length) or tree_depth==max_tree_depth:\n",
        "    \n",
        "    left_node=tree_leaf(dfL)\n",
        "  else:\n",
        "    left_node=train_tree_mlma(dfL, tree_depth)\n",
        "  \n",
        "  #Right branch (false)\n",
        "  if check_impurity(dfR) or check_predictor(dfR) or check_node_length(dfR,min_partition_length) or tree_depth==max_tree_depth:\n",
        "    \n",
        "    right_node=tree_leaf(dfR)\n",
        "  else:\n",
        "    right_node=train_tree_mlma(dfR, tree_depth)\n",
        "\n",
        "\n",
        "\n",
        "  return tree_node(predictor, threshold, left_node, right_node)"
      ]
    },
    {
      "cell_type": "code",
      "execution_count": 215,
      "metadata": {
        "colab": {
          "base_uri": "https://localhost:8080/"
        },
        "id": "u5-an4DJLMut",
        "outputId": "2f587e7a-73f9-4c75-8e88-130f87086aee"
      },
      "outputs": [
        {
          "name": "stdout",
          "output_type": "stream",
          "text": [
            "Tree depth: 1\n",
            "Tree depth: 2\n",
            "Tree depth: 3\n",
            "Tree depth: 4\n",
            "Tree depth: 5\n",
            "Tree depth: 6\n",
            "Tree depth: 7\n",
            "Tree depth: 6\n",
            "Tree depth: 7\n",
            "Tree depth: 8\n",
            "Tree depth: 9\n",
            "Tree depth: 5\n",
            "Tree depth: 6\n",
            "Tree depth: 4\n",
            "Tree depth: 5\n",
            "Tree depth: 6\n",
            "Tree depth: 5\n",
            "Tree depth: 6\n",
            "Tree depth: 7\n",
            "Tree depth: 3\n",
            "Tree depth: 4\n",
            "Tree depth: 5\n",
            "Tree depth: 6\n",
            "Tree depth: 7\n",
            "Tree depth: 8\n",
            "Tree depth: 4\n",
            "Tree depth: 2\n",
            "Tree depth: 3\n",
            "Tree depth: 4\n",
            "Tree depth: 5\n",
            "Tree depth: 6\n",
            "Tree depth: 7\n",
            "Tree depth: 8\n",
            "Tree depth: 9\n",
            "Tree depth: 10\n",
            "Tree depth: 11\n",
            "Tree depth: 12\n",
            "Tree depth: 13\n",
            "Tree depth: 14\n",
            "Tree depth: 15\n",
            "Tree depth: 16\n",
            "Tree depth: 17\n",
            "Tree depth: 18\n",
            "Tree depth: 19\n",
            "Tree depth: 20\n",
            "Tree depth: 21\n",
            "Tree depth: 9\n"
          ]
        }
      ],
      "source": [
        "my_tree=train_tree_mlma(dfTrain)"
      ]
    },
    {
      "cell_type": "code",
      "execution_count": 216,
      "metadata": {
        "id": "yUbMrlD5N0CA"
      },
      "outputs": [],
      "source": [
        "def print_tree_mlma(my_tree, jump=''):\n",
        "  jump=jump+'-'\n",
        "  if isinstance(my_tree, tree_leaf):\n",
        "    print(jump+'Result: ')\n",
        "    print(my_tree.predictions)\n",
        "  else:\n",
        "    if is_numeric_dtype(my_tree.threshold):\n",
        "      print(jump + '> If ' + str(my_tree.predictor) + ' <= ' + str(my_tree.threshold))\n",
        "      print_tree_mlma(my_tree.left_branch,jump)\n",
        "      print(jump+'> Else: ')\n",
        "      print_tree_mlma(my_tree.right_branch,jump)\n",
        "    \n",
        "    else:\n",
        "      print(jump + '> If ' + str(my_tree.predictor) + ' is ' + str(my_tree.threshold))\n",
        "      print_tree_mlma(my_tree.left_branch,jump)\n",
        "      print(jump+'> Else: ')\n",
        "      print_tree_mlma(my_tree.right_branch,jump)"
      ]
    },
    {
      "cell_type": "code",
      "execution_count": 217,
      "metadata": {
        "colab": {
          "base_uri": "https://localhost:8080/"
        },
        "id": "7LXpiaHXbnIp",
        "outputId": "74df7edd-58df-4162-954d-59a2a2173db5"
      },
      "outputs": [
        {
          "name": "stdout",
          "output_type": "stream",
          "text": [
            "-> If Polyuria is No\n",
            "--> If Gender is Male\n",
            "---> If Polydipsia is No\n",
            "----> If Irritability is No\n",
            "-----> If partial paresis is Yes\n",
            "------> If muscle stiffness is No\n",
            "-------> If Itching is No\n",
            "--------Result: \n",
            "{'Positive': 1.0}\n",
            "-------> Else: \n",
            "--------Result: \n",
            "{'Negative': 1.0}\n",
            "------> Else: \n",
            "-------Result: \n",
            "{'Negative': 1.0}\n",
            "-----> Else: \n",
            "------> If delayed healing is No\n",
            "-------Result: \n",
            "{'Negative': 1.0}\n",
            "------> Else: \n",
            "-------> If Age <= 37\n",
            "--------Result: \n",
            "{'Positive': 1.0}\n",
            "-------> Else: \n",
            "--------> If Alopecia is No\n",
            "---------> If Age <= 45\n",
            "----------Result: \n",
            "{'Positive': 1.0}\n",
            "---------> Else: \n",
            "----------Result: \n",
            "{'Negative': 1.0}\n",
            "--------> Else: \n",
            "---------Result: \n",
            "{'Negative': 1.0}\n",
            "----> Else: \n",
            "-----> If Genital thrush is No\n",
            "------> If Age <= 42\n",
            "-------Result: \n",
            "{'Positive': 1.0}\n",
            "------> Else: \n",
            "-------Result: \n",
            "{'Negative': 1.0}\n",
            "-----> Else: \n",
            "------Result: \n",
            "{'Positive': 1.0}\n",
            "---> Else: \n",
            "----> If muscle stiffness is No\n",
            "-----> If partial paresis is No\n",
            "------Result: \n",
            "{'Positive': 1.0}\n",
            "-----> Else: \n",
            "------> If Age <= 49\n",
            "-------Result: \n",
            "{'Negative': 1.0}\n",
            "------> Else: \n",
            "-------Result: \n",
            "{'Positive': 1.0}\n",
            "----> Else: \n",
            "-----> If delayed healing is No\n",
            "------Result: \n",
            "{'Negative': 1.0}\n",
            "-----> Else: \n",
            "------> If Irritability is No\n",
            "-------> If Age <= 40\n",
            "--------Result: \n",
            "{'Positive': 1.0}\n",
            "-------> Else: \n",
            "--------Result: \n",
            "{'Negative': 1.0}\n",
            "------> Else: \n",
            "-------Result: \n",
            "{'Positive': 1.0}\n",
            "--> Else: \n",
            "---> If Alopecia is No\n",
            "----> If Age <= 34\n",
            "-----Result: \n",
            "{'Negative': 1.0}\n",
            "----> Else: \n",
            "-----> If Age <= 33\n",
            "------Result: \n",
            "{'Negative': 1.0}\n",
            "-----> Else: \n",
            "------> If Age <= 36\n",
            "-------Result: \n",
            "{'Negative': 1.0}\n",
            "------> Else: \n",
            "-------> If Age <= 28\n",
            "--------> If Polyphagia is No\n",
            "---------Result: \n",
            "{'Positive': 1.0}\n",
            "--------> Else: \n",
            "---------Result: \n",
            "{'Negative': 1.0}\n",
            "-------> Else: \n",
            "--------Result: \n",
            "{'Positive': 1.0}\n",
            "---> Else: \n",
            "----> If delayed healing is No\n",
            "-----Result: \n",
            "{'Positive': 1.0}\n",
            "----> Else: \n",
            "-----Result: \n",
            "{'Negative': 1.0}\n",
            "-> Else: \n",
            "--> If Age <= 70\n",
            "---Result: \n",
            "{'Positive': 1.0}\n",
            "--> Else: \n",
            "---> If Polydipsia is No\n",
            "----> If Age <= 62\n",
            "-----Result: \n",
            "{'Positive': 1.0}\n",
            "----> Else: \n",
            "-----> If Age <= 61\n",
            "------Result: \n",
            "{'Positive': 1.0}\n",
            "-----> Else: \n",
            "------> If Age <= 60\n",
            "-------Result: \n",
            "{'Positive': 1.0}\n",
            "------> Else: \n",
            "-------> If Age <= 58\n",
            "--------Result: \n",
            "{'Positive': 1.0}\n",
            "-------> Else: \n",
            "--------> If Obesity is No\n",
            "---------> If Age <= 69\n",
            "----------Result: \n",
            "{'Positive': 1.0}\n",
            "---------> Else: \n",
            "----------> If Age <= 57\n",
            "-----------Result: \n",
            "{'Positive': 1.0}\n",
            "----------> Else: \n",
            "-----------> If Age <= 56\n",
            "------------Result: \n",
            "{'Positive': 1.0}\n",
            "-----------> Else: \n",
            "------------> If Age <= 55\n",
            "-------------Result: \n",
            "{'Positive': 1.0}\n",
            "------------> Else: \n",
            "-------------> If Age <= 53\n",
            "--------------Result: \n",
            "{'Positive': 1.0}\n",
            "-------------> Else: \n",
            "--------------> If Age <= 47\n",
            "---------------Result: \n",
            "{'Positive': 1.0}\n",
            "--------------> Else: \n",
            "---------------> If Age <= 46\n",
            "----------------Result: \n",
            "{'Positive': 1.0}\n",
            "---------------> Else: \n",
            "----------------> If Age <= 43\n",
            "-----------------Result: \n",
            "{'Positive': 1.0}\n",
            "----------------> Else: \n",
            "-----------------> If Age <= 41\n",
            "------------------Result: \n",
            "{'Positive': 1.0}\n",
            "-----------------> Else: \n",
            "------------------> If Age <= 40\n",
            "-------------------Result: \n",
            "{'Positive': 1.0}\n",
            "------------------> Else: \n",
            "-------------------> If Age <= 39\n",
            "--------------------Result: \n",
            "{'Positive': 1.0}\n",
            "-------------------> Else: \n",
            "--------------------> If Itching is No\n",
            "---------------------Result: \n",
            "{'Positive': 1.0}\n",
            "--------------------> Else: \n",
            "---------------------> If Age <= 36\n",
            "----------------------Result: \n",
            "{'Positive': 1.0}\n",
            "---------------------> Else: \n",
            "----------------------Result: \n",
            "{'Negative': 1.0}\n",
            "--------> Else: \n",
            "---------> If Age <= 38\n",
            "----------Result: \n",
            "{'Positive': 1.0}\n",
            "---------> Else: \n",
            "----------Result: \n",
            "{'Negative': 1.0}\n",
            "---> Else: \n",
            "----Result: \n",
            "{'Positive': 1.0}\n"
          ]
        }
      ],
      "source": [
        "print_tree_mlma(my_tree)"
      ]
    },
    {
      "cell_type": "code",
      "execution_count": 218,
      "metadata": {
        "id": "8J9LNrJsbaYe"
      },
      "outputs": [],
      "source": [
        "def classify_tree_mlma(my_tree, my_series):\n",
        "  \"\"\"\n",
        "  Classifies the input series and returns the predictions\n",
        "  \"\"\"\n",
        "  if isinstance(my_tree, tree_leaf):\n",
        "    return my_tree.predictions\n",
        "  else:\n",
        "    if is_numeric_dtype(my_tree.threshold): # Numeric\n",
        "      if my_series[my_tree.predictor] <= my_tree.threshold:\n",
        "        return classify_tree_mlma(my_tree.left_branch,my_series)\n",
        "      else:\n",
        "        return classify_tree_mlma(my_tree.right_branch,my_series)\n",
        "    else: #Categorical\n",
        "      if my_series[my_tree.predictor] == my_tree.threshold:\n",
        "        return classify_tree_mlma(my_tree.left_branch,my_series)\n",
        "      else:\n",
        "        return classify_tree_mlma(my_tree.right_branch,my_series)\n",
        "\n",
        "\n",
        "      \n",
        " "
      ]
    },
    {
      "cell_type": "code",
      "execution_count": 86,
      "metadata": {
        "colab": {
          "base_uri": "https://localhost:8080/"
        },
        "id": "5qcGU6CuocxM",
        "outputId": "8e04277b-89b1-4c8a-bc8b-7c2903fee62a"
      },
      "outputs": [
        {
          "name": "stdout",
          "output_type": "stream",
          "text": [
            "True class: Positive - Class\n",
            "Predicted class: \n",
            "{'Positive': 1.0}\n"
          ]
        }
      ],
      "source": [
        "# Predictions\n",
        "my_series=dfTest.iloc[33,:]\n",
        "prediction=classify_tree_mlma(my_tree, my_series )\n",
        "print('True class: ' + my_series[-1] + ' - ' + my_series.keys()[-1])\n",
        "print('Predicted class: ')\n",
        "print(prediction)"
      ]
    },
    {
      "cell_type": "markdown",
      "metadata": {
        "id": "sPc3VV-nsPty"
      },
      "source": [
        "\n",
        "Coding a function that calculates the accuracy of the trained tree when classifying the whole dfTest subset."
      ]
    },
    {
      "cell_type": "code",
      "execution_count": 87,
      "metadata": {
        "colab": {
          "base_uri": "https://localhost:8080/"
        },
        "id": "lKGAnuEPkHq-",
        "outputId": "fce6e11c-bac2-417c-f272-4f24189538b6"
      },
      "outputs": [
        {
          "name": "stderr",
          "output_type": "stream",
          "text": [
            "C:\\Users\\cairu\\AppData\\Local\\Temp/ipykernel_10020/1116971243.py:3: DeprecationWarning: The default dtype for empty Series will be 'object' instead of 'float64' in a future version. Specify a dtype explicitly to silence this warning.\n",
            "  temp = pd.Series()\n"
          ]
        }
      ],
      "source": [
        "# Forming list of predicted and actual values\n",
        "actual = pd.Series(dfTest['Class']).values\n",
        "temp = pd.Series()\n",
        "for x in range(len(dfTest)):\n",
        "  my_series=dfTest.iloc[x,:]\n",
        "  prediction=classify_tree_mlma(my_tree, my_series )\n",
        "  a = pd.Series(prediction)\n",
        "  temp = temp.append(a)\n",
        "predicted = temp.index.values"
      ]
    },
    {
      "cell_type": "code",
      "execution_count": 219,
      "metadata": {
        "colab": {
          "base_uri": "https://localhost:8080/"
        },
        "id": "vVG-ICCKj9VP",
        "outputId": "61ed8061-722c-4c57-90b8-04d4d02c3cc1"
      },
      "outputs": [
        {
          "name": "stdout",
          "output_type": "stream",
          "text": [
            "96.15384615384616\n"
          ]
        }
      ],
      "source": [
        "# Calculating accuracy\n",
        "def accuracy(actual, predicted):\n",
        "\tcorrect = 0\n",
        "\tfor i in range(len(actual)):\n",
        "\t\tif actual[i] == predicted[i]:\n",
        "\t\t\tcorrect += 1\n",
        "\treturn correct / float(len(actual)) * 100.0\n",
        " \n",
        "accuracy = accuracy(actual, predicted)\n",
        "print(accuracy)"
      ]
    }
  ],
  "metadata": {
    "colab": {
      "collapsed_sections": [],
      "name": "Lab2_DecisionTrees_cvania1.ipynb",
      "provenance": []
    },
    "kernelspec": {
      "display_name": "Python 3.9.7 ('base')",
      "language": "python",
      "name": "python3"
    },
    "language_info": {
      "codemirror_mode": {
        "name": "ipython",
        "version": 3
      },
      "file_extension": ".py",
      "mimetype": "text/x-python",
      "name": "python",
      "nbconvert_exporter": "python",
      "pygments_lexer": "ipython3",
      "version": "3.9.7"
    },
    "vscode": {
      "interpreter": {
        "hash": "e74f57254c99d7d2003160e0e5db67f9903fd43a39054be0bb8f20d7ea177a55"
      }
    }
  },
  "nbformat": 4,
  "nbformat_minor": 0
}
