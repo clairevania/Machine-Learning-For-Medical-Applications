{
  "cells": [
    {
      "cell_type": "markdown",
      "metadata": {
        "id": "gddebLNJiV-e"
      },
      "source": [
        "# Prognosis and survival functions\n",
        "\n",
        "In this project, we will analyze observations from different patients who suffered a heart attack and we will create different survival functions employing univariate (Kaplan-Meier estimate) and multivariate (Cox proportional hazards and survival forests) analysis."
      ]
    },
    {
      "cell_type": "code",
      "execution_count": 20,
      "metadata": {
        "colab": {
          "base_uri": "https://localhost:8080/"
        },
        "id": "Ik4vfXLg6V3B",
        "outputId": "8b28bbd4-a8d3-4389-9ca0-fe1e1846c2ca"
      },
      "outputs": [
        {
          "name": "stdout",
          "output_type": "stream",
          "text": [
            "Requirement already satisfied: lifelines in /usr/local/lib/python3.7/dist-packages (0.26.4)\n",
            "Requirement already satisfied: pandas>=0.23.0 in /usr/local/lib/python3.7/dist-packages (from lifelines) (1.3.5)\n",
            "Requirement already satisfied: numpy>=1.14.0 in /usr/local/lib/python3.7/dist-packages (from lifelines) (1.21.5)\n",
            "Requirement already satisfied: formulaic<0.3,>=0.2.2 in /usr/local/lib/python3.7/dist-packages (from lifelines) (0.2.4)\n",
            "Requirement already satisfied: autograd-gamma>=0.3 in /usr/local/lib/python3.7/dist-packages (from lifelines) (0.5.0)\n",
            "Requirement already satisfied: autograd>=1.3 in /usr/local/lib/python3.7/dist-packages (from lifelines) (1.3)\n",
            "Requirement already satisfied: scipy>=1.2.0 in /usr/local/lib/python3.7/dist-packages (from lifelines) (1.4.1)\n",
            "Requirement already satisfied: matplotlib>=3.0 in /usr/local/lib/python3.7/dist-packages (from lifelines) (3.2.2)\n",
            "Requirement already satisfied: future>=0.15.2 in /usr/local/lib/python3.7/dist-packages (from autograd>=1.3->lifelines) (0.16.0)\n",
            "Requirement already satisfied: wrapt in /usr/local/lib/python3.7/dist-packages (from formulaic<0.3,>=0.2.2->lifelines) (1.13.3)\n",
            "Requirement already satisfied: astor in /usr/local/lib/python3.7/dist-packages (from formulaic<0.3,>=0.2.2->lifelines) (0.8.1)\n",
            "Requirement already satisfied: interface-meta>=1.2 in /usr/local/lib/python3.7/dist-packages (from formulaic<0.3,>=0.2.2->lifelines) (1.2.4)\n",
            "Requirement already satisfied: cycler>=0.10 in /usr/local/lib/python3.7/dist-packages (from matplotlib>=3.0->lifelines) (0.11.0)\n",
            "Requirement already satisfied: kiwisolver>=1.0.1 in /usr/local/lib/python3.7/dist-packages (from matplotlib>=3.0->lifelines) (1.3.2)\n",
            "Requirement already satisfied: python-dateutil>=2.1 in /usr/local/lib/python3.7/dist-packages (from matplotlib>=3.0->lifelines) (2.8.2)\n",
            "Requirement already satisfied: pyparsing!=2.0.4,!=2.1.2,!=2.1.6,>=2.0.1 in /usr/local/lib/python3.7/dist-packages (from matplotlib>=3.0->lifelines) (3.0.7)\n",
            "Requirement already satisfied: pytz>=2017.3 in /usr/local/lib/python3.7/dist-packages (from pandas>=0.23.0->lifelines) (2018.9)\n",
            "Requirement already satisfied: six>=1.5 in /usr/local/lib/python3.7/dist-packages (from python-dateutil>=2.1->matplotlib>=3.0->lifelines) (1.15.0)\n",
            "Requirement already satisfied: scikit-survival in /usr/local/lib/python3.7/dist-packages (0.17.0)\n",
            "Requirement already satisfied: numexpr in /usr/local/lib/python3.7/dist-packages (from scikit-survival) (2.8.1)\n",
            "Requirement already satisfied: scipy!=1.3.0,>=1.0 in /usr/local/lib/python3.7/dist-packages (from scikit-survival) (1.4.1)\n",
            "Requirement already satisfied: pandas>=0.25 in /usr/local/lib/python3.7/dist-packages (from scikit-survival) (1.3.5)\n",
            "Requirement already satisfied: ecos in /usr/local/lib/python3.7/dist-packages (from scikit-survival) (2.0.10)\n",
            "Requirement already satisfied: numpy in /usr/local/lib/python3.7/dist-packages (from scikit-survival) (1.21.5)\n",
            "Requirement already satisfied: scikit-learn<1.1,>=1.0.0 in /usr/local/lib/python3.7/dist-packages (from scikit-survival) (1.0.2)\n",
            "Requirement already satisfied: joblib in /usr/local/lib/python3.7/dist-packages (from scikit-survival) (1.1.0)\n",
            "Requirement already satisfied: osqp!=0.6.0,!=0.6.1 in /usr/local/lib/python3.7/dist-packages (from scikit-survival) (0.6.2.post0)\n",
            "Requirement already satisfied: qdldl in /usr/local/lib/python3.7/dist-packages (from osqp!=0.6.0,!=0.6.1->scikit-survival) (0.1.5.post0)\n",
            "Requirement already satisfied: pytz>=2017.3 in /usr/local/lib/python3.7/dist-packages (from pandas>=0.25->scikit-survival) (2018.9)\n",
            "Requirement already satisfied: python-dateutil>=2.7.3 in /usr/local/lib/python3.7/dist-packages (from pandas>=0.25->scikit-survival) (2.8.2)\n",
            "Requirement already satisfied: six>=1.5 in /usr/local/lib/python3.7/dist-packages (from python-dateutil>=2.7.3->pandas>=0.25->scikit-survival) (1.15.0)\n",
            "Requirement already satisfied: threadpoolctl>=2.0.0 in /usr/local/lib/python3.7/dist-packages (from scikit-learn<1.1,>=1.0.0->scikit-survival) (3.1.0)\n",
            "Requirement already satisfied: packaging in /usr/local/lib/python3.7/dist-packages (from numexpr->scikit-survival) (21.3)\n",
            "Requirement already satisfied: pyparsing!=3.0.5,>=2.0.2 in /usr/local/lib/python3.7/dist-packages (from packaging->numexpr->scikit-survival) (3.0.7)\n"
          ]
        }
      ],
      "source": [
        "# Libraries to be used. Feel free to add more libraries if you need them\n",
        "import urllib.request\n",
        "import numpy as np\n",
        "import pandas as pd\n",
        "import matplotlib.pyplot as plt\n",
        "!pip install lifelines\n",
        "from lifelines import CoxPHFitter\n",
        "from sklearn.model_selection import train_test_split\n",
        "!pip install scikit-survival\n",
        "from sksurv.ensemble import RandomSurvivalForest\n",
        "from sksurv.preprocessing import OneHotEncoder\n"
      ]
    },
    {
      "cell_type": "markdown",
      "metadata": {
        "id": "jQCeiNDSe6Dy"
      },
      "source": [
        "**DATA**\n",
        "\n",
        "The data that we are going to use in this lab is described in the paper [\"Survival analysis of heart failure patients: A case study\"](https://journals.plos.org/plosone/article?id=10.1371/journal.pone.0181001). According to the authors: \n",
        "\n",
        "*Current study is based on 299 patients of heart failure comprising of 105 women and 194 men. All the patients were more than 40 years old, having left ventricular systolic dysfunction and falling in NYHA class III and IV. Follow up time was 4–285 days with an average of 130 days. Disease was diagnosed by cardiac echo report or notes written by physician. Age, serum sodium, serum creatinine, gender, smoking, Blood Pressure (BP), Ejection Fraction (EF), anemia, platelets, Creatinine Phosphokinase (CPK) and diabetes were considered as potential variables explaining mortality caused by CHD [...]. The information related to risk factors were taken from blood reports while smoking status and blood pressure were taken from physician’s notes.*\n",
        "\n",
        "\n",
        "\n",
        "\n"
      ]
    },
    {
      "cell_type": "code",
      "execution_count": 21,
      "metadata": {
        "id": "Uidy9E8L-KON"
      },
      "outputs": [],
      "source": [
        "#Load  the data\n",
        "sData='https://plos.figshare.com/ndownloader/files/8937223'\n",
        "urllib.request.urlretrieve(sData,'./HeartFailure.csv')\n",
        "df=pd.read_csv('./HeartFailure.csv')"
      ]
    },
    {
      "cell_type": "code",
      "execution_count": 22,
      "metadata": {
        "colab": {
          "base_uri": "https://localhost:8080/",
          "height": 241
        },
        "id": "YF9-JECf_j14",
        "outputId": "b90399f9-928c-4886-bfdb-f05c024380cd"
      },
      "outputs": [
        {
          "name": "stdout",
          "output_type": "stream",
          "text": [
            "Number of observations:  299\n",
            "Number of predictor variables:  11\n"
          ]
        },
        {
          "data": {
            "text/html": [
              "\n",
              "  <div id=\"df-0c7b0a81-7c6f-485e-8b15-253f3558e3a4\">\n",
              "    <div class=\"colab-df-container\">\n",
              "      <div>\n",
              "<style scoped>\n",
              "    .dataframe tbody tr th:only-of-type {\n",
              "        vertical-align: middle;\n",
              "    }\n",
              "\n",
              "    .dataframe tbody tr th {\n",
              "        vertical-align: top;\n",
              "    }\n",
              "\n",
              "    .dataframe thead th {\n",
              "        text-align: right;\n",
              "    }\n",
              "</style>\n",
              "<table border=\"1\" class=\"dataframe\">\n",
              "  <thead>\n",
              "    <tr style=\"text-align: right;\">\n",
              "      <th></th>\n",
              "      <th>TIME</th>\n",
              "      <th>Event</th>\n",
              "      <th>Gender</th>\n",
              "      <th>Smoking</th>\n",
              "      <th>Diabetes</th>\n",
              "      <th>BP</th>\n",
              "      <th>Anaemia</th>\n",
              "      <th>Age</th>\n",
              "      <th>Ejection.Fraction</th>\n",
              "      <th>Sodium</th>\n",
              "      <th>Creatinine</th>\n",
              "      <th>Pletelets</th>\n",
              "      <th>CPK</th>\n",
              "    </tr>\n",
              "  </thead>\n",
              "  <tbody>\n",
              "    <tr>\n",
              "      <th>0</th>\n",
              "      <td>97</td>\n",
              "      <td>0</td>\n",
              "      <td>0</td>\n",
              "      <td>0</td>\n",
              "      <td>0</td>\n",
              "      <td>0</td>\n",
              "      <td>1</td>\n",
              "      <td>43.0</td>\n",
              "      <td>50</td>\n",
              "      <td>135</td>\n",
              "      <td>1.30</td>\n",
              "      <td>237000.00</td>\n",
              "      <td>358</td>\n",
              "    </tr>\n",
              "    <tr>\n",
              "      <th>1</th>\n",
              "      <td>180</td>\n",
              "      <td>0</td>\n",
              "      <td>1</td>\n",
              "      <td>1</td>\n",
              "      <td>1</td>\n",
              "      <td>0</td>\n",
              "      <td>1</td>\n",
              "      <td>73.0</td>\n",
              "      <td>30</td>\n",
              "      <td>142</td>\n",
              "      <td>1.18</td>\n",
              "      <td>160000.00</td>\n",
              "      <td>231</td>\n",
              "    </tr>\n",
              "    <tr>\n",
              "      <th>2</th>\n",
              "      <td>31</td>\n",
              "      <td>1</td>\n",
              "      <td>1</td>\n",
              "      <td>1</td>\n",
              "      <td>0</td>\n",
              "      <td>1</td>\n",
              "      <td>0</td>\n",
              "      <td>70.0</td>\n",
              "      <td>20</td>\n",
              "      <td>134</td>\n",
              "      <td>1.83</td>\n",
              "      <td>263358.03</td>\n",
              "      <td>582</td>\n",
              "    </tr>\n",
              "    <tr>\n",
              "      <th>3</th>\n",
              "      <td>87</td>\n",
              "      <td>0</td>\n",
              "      <td>1</td>\n",
              "      <td>0</td>\n",
              "      <td>0</td>\n",
              "      <td>0</td>\n",
              "      <td>1</td>\n",
              "      <td>65.0</td>\n",
              "      <td>25</td>\n",
              "      <td>141</td>\n",
              "      <td>1.10</td>\n",
              "      <td>298000.00</td>\n",
              "      <td>305</td>\n",
              "    </tr>\n",
              "    <tr>\n",
              "      <th>4</th>\n",
              "      <td>113</td>\n",
              "      <td>0</td>\n",
              "      <td>1</td>\n",
              "      <td>0</td>\n",
              "      <td>0</td>\n",
              "      <td>0</td>\n",
              "      <td>0</td>\n",
              "      <td>64.0</td>\n",
              "      <td>60</td>\n",
              "      <td>137</td>\n",
              "      <td>1.00</td>\n",
              "      <td>242000.00</td>\n",
              "      <td>1610</td>\n",
              "    </tr>\n",
              "  </tbody>\n",
              "</table>\n",
              "</div>\n",
              "      <button class=\"colab-df-convert\" onclick=\"convertToInteractive('df-0c7b0a81-7c6f-485e-8b15-253f3558e3a4')\"\n",
              "              title=\"Convert this dataframe to an interactive table.\"\n",
              "              style=\"display:none;\">\n",
              "        \n",
              "  <svg xmlns=\"http://www.w3.org/2000/svg\" height=\"24px\"viewBox=\"0 0 24 24\"\n",
              "       width=\"24px\">\n",
              "    <path d=\"M0 0h24v24H0V0z\" fill=\"none\"/>\n",
              "    <path d=\"M18.56 5.44l.94 2.06.94-2.06 2.06-.94-2.06-.94-.94-2.06-.94 2.06-2.06.94zm-11 1L8.5 8.5l.94-2.06 2.06-.94-2.06-.94L8.5 2.5l-.94 2.06-2.06.94zm10 10l.94 2.06.94-2.06 2.06-.94-2.06-.94-.94-2.06-.94 2.06-2.06.94z\"/><path d=\"M17.41 7.96l-1.37-1.37c-.4-.4-.92-.59-1.43-.59-.52 0-1.04.2-1.43.59L10.3 9.45l-7.72 7.72c-.78.78-.78 2.05 0 2.83L4 21.41c.39.39.9.59 1.41.59.51 0 1.02-.2 1.41-.59l7.78-7.78 2.81-2.81c.8-.78.8-2.07 0-2.86zM5.41 20L4 18.59l7.72-7.72 1.47 1.35L5.41 20z\"/>\n",
              "  </svg>\n",
              "      </button>\n",
              "      \n",
              "  <style>\n",
              "    .colab-df-container {\n",
              "      display:flex;\n",
              "      flex-wrap:wrap;\n",
              "      gap: 12px;\n",
              "    }\n",
              "\n",
              "    .colab-df-convert {\n",
              "      background-color: #E8F0FE;\n",
              "      border: none;\n",
              "      border-radius: 50%;\n",
              "      cursor: pointer;\n",
              "      display: none;\n",
              "      fill: #1967D2;\n",
              "      height: 32px;\n",
              "      padding: 0 0 0 0;\n",
              "      width: 32px;\n",
              "    }\n",
              "\n",
              "    .colab-df-convert:hover {\n",
              "      background-color: #E2EBFA;\n",
              "      box-shadow: 0px 1px 2px rgba(60, 64, 67, 0.3), 0px 1px 3px 1px rgba(60, 64, 67, 0.15);\n",
              "      fill: #174EA6;\n",
              "    }\n",
              "\n",
              "    [theme=dark] .colab-df-convert {\n",
              "      background-color: #3B4455;\n",
              "      fill: #D2E3FC;\n",
              "    }\n",
              "\n",
              "    [theme=dark] .colab-df-convert:hover {\n",
              "      background-color: #434B5C;\n",
              "      box-shadow: 0px 1px 3px 1px rgba(0, 0, 0, 0.15);\n",
              "      filter: drop-shadow(0px 1px 2px rgba(0, 0, 0, 0.3));\n",
              "      fill: #FFFFFF;\n",
              "    }\n",
              "  </style>\n",
              "\n",
              "      <script>\n",
              "        const buttonEl =\n",
              "          document.querySelector('#df-0c7b0a81-7c6f-485e-8b15-253f3558e3a4 button.colab-df-convert');\n",
              "        buttonEl.style.display =\n",
              "          google.colab.kernel.accessAllowed ? 'block' : 'none';\n",
              "\n",
              "        async function convertToInteractive(key) {\n",
              "          const element = document.querySelector('#df-0c7b0a81-7c6f-485e-8b15-253f3558e3a4');\n",
              "          const dataTable =\n",
              "            await google.colab.kernel.invokeFunction('convertToInteractive',\n",
              "                                                     [key], {});\n",
              "          if (!dataTable) return;\n",
              "\n",
              "          const docLinkHtml = 'Like what you see? Visit the ' +\n",
              "            '<a target=\"_blank\" href=https://colab.research.google.com/notebooks/data_table.ipynb>data table notebook</a>'\n",
              "            + ' to learn more about interactive tables.';\n",
              "          element.innerHTML = '';\n",
              "          dataTable['output_type'] = 'display_data';\n",
              "          await google.colab.output.renderOutput(dataTable, element);\n",
              "          const docLink = document.createElement('div');\n",
              "          docLink.innerHTML = docLinkHtml;\n",
              "          element.appendChild(docLink);\n",
              "        }\n",
              "      </script>\n",
              "    </div>\n",
              "  </div>\n",
              "  "
            ],
            "text/plain": [
              "   TIME  Event  Gender  Smoking  ...  Sodium  Creatinine  Pletelets   CPK\n",
              "0    97      0       0        0  ...     135        1.30  237000.00   358\n",
              "1   180      0       1        1  ...     142        1.18  160000.00   231\n",
              "2    31      1       1        1  ...     134        1.83  263358.03   582\n",
              "3    87      0       1        0  ...     141        1.10  298000.00   305\n",
              "4   113      0       1        0  ...     137        1.00  242000.00  1610\n",
              "\n",
              "[5 rows x 13 columns]"
            ]
          },
          "execution_count": 22,
          "metadata": {},
          "output_type": "execute_result"
        }
      ],
      "source": [
        "# Visualize the data and obtain statistics (number of observations and predictor variables)\n",
        "print('Number of observations: ', len(df))\n",
        "print('Number of predictor variables: ', len(df.columns)-2)\n",
        "df.head()\n"
      ]
    },
    {
      "cell_type": "markdown",
      "metadata": {
        "id": "wbVoSInouDRw"
      },
      "source": [
        "# 1. Univariate analysis: Univariate survival functions and cumulative hazard"
      ]
    },
    {
      "cell_type": "markdown",
      "metadata": {
        "id": "CBH9zPd_nKXX"
      },
      "source": [
        "**TASK 1:** Calculating and plot the survival function employing the Kaplan-Meier estimate "
      ]
    },
    {
      "cell_type": "code",
      "execution_count": 23,
      "metadata": {
        "id": "YAUNRO7ls86o"
      },
      "outputs": [],
      "source": [
        "# Calculate and plot the survival function employing the Kaplan-Meier estimate\n",
        "def calculate_survival_KM(df_inp, TimeColumn, EventColumn):\n",
        "  prob_survival = [0]\n",
        "  p = 1\n",
        "  time = [p]\n",
        "  TimeColumn = 'TIME'\n",
        "  EventColumn = 'Event'\n",
        "  unique_followup_time = df_inp[TimeColumn].unique()\n",
        "  unique_followup_time = sorted(unique_followup_time) # Sorting the unique times \n",
        "  for t in unique_followup_time:\n",
        "    n_survived = len(df_inp[(df_inp[TimeColumn]>=t)]) # People that survived for time greater than or equal to t \n",
        "    n_died = len(df_inp[(df_inp[TimeColumn]==t)&(df_inp[EventColumn]==1)]) # people that died at time t \n",
        "    p = p*(1-float(n_died/n_survived)) # Using kaplan meier formula \n",
        "    time.append(t) # Storing Time\n",
        "    prob_survival.append(p) # Storing probablities\n",
        "\n",
        "  dfSurv = pd.DataFrame(list(zip(time, prob_survival)), \n",
        "                columns =['Time', 'Probabiltity of Survival']) # Converting into data frame the time and survival probabilties \n",
        "  return dfSurv\n",
        "\n",
        "# Plotting survival function \n",
        "def plot_survival(df_inp, TimeColumn, EventColumn, Name):\n",
        "  dfSurv = calculate_survival_KM(df_inp, TimeColumn, EventColumn) \n",
        "  plt.plot(dfSurv.iloc[1:,0],dfSurv.iloc[1:,1],label=Name)\n",
        "  plt.legend()\n",
        "  plt.grid()\n",
        "  plt.xlabel('Time')\n",
        "  plt.ylabel('Probabilty of survival')\n",
        "  plt.show()\n",
        "  \n",
        "\n"
      ]
    },
    {
      "cell_type": "code",
      "execution_count": 24,
      "metadata": {
        "colab": {
          "base_uri": "https://localhost:8080/",
          "height": 279
        },
        "id": "9sQet5nyXIjt",
        "outputId": "0ef76777-b931-4df6-f41d-a3f0df93b5df"
      },
      "outputs": [
        {
          "data": {
            "image/png": "[encoded data removed]",
            "text/plain": [
              "<Figure size 432x288 with 1 Axes>"
            ]
          },
          "metadata": {
            "needs_background": "light"
          },
          "output_type": "display_data"
        }
      ],
      "source": [
        "# Plot the survival function obtained with the whole dataframe\n",
        "TimeColumn='TIME'\n",
        "EventColumn='Event'\n",
        "plot_survival(df, TimeColumn, EventColumn, 'All')"
      ]
    },
    {
      "cell_type": "markdown",
      "metadata": {
        "id": "dvSpNkVZoYZ2"
      },
      "source": [
        "**TASK 2:** Coding a function that displays the survival function of two categories of a certain predictor (eg. smoker and non-smoker or male, female) in the same plot."
      ]
    },
    {
      "cell_type": "code",
      "execution_count": 64,
      "metadata": {
        "id": "4AGJvziCn7CY"
      },
      "outputs": [],
      "source": [
        "# function to print two categories \n",
        "def plot_survival_twocat(df_inp, predictor, cat1, cat0):\n",
        "  df_cat1 = df_inp[df_inp[predictor] == 1] # Getting dataframe for category 1\n",
        "  df_cat0 = df_inp[df_inp[predictor] == 0] # Getting dataframe for category 0\n",
        "  dfSurv_cat1 = calculate_survival_KM(df_cat1, 'TIME', 'Event') # Getting survival function for category 1\n",
        "  dfSurv_cat0 = calculate_survival_KM(df_cat0, 'TIME', 'Event') # Getting survival function for category 0\n",
        "  plt.plot(dfSurv_cat1.iloc[1:,0],dfSurv_cat1.iloc[1:,1],label=cat1)\n",
        "  plt.plot(dfSurv_cat0.iloc[1:,0],dfSurv_cat0.iloc[1:,1],label=cat0)\n",
        "  plt.ylim([0,1])\n",
        "  plt.legend()\n",
        "  plt.xlabel('Time')\n",
        "  plt.ylabel('Probability of survival')\n",
        "  plt.grid()\n",
        "  plt.show()\n"
      ]
    },
    {
      "cell_type": "code",
      "execution_count": 65,
      "metadata": {
        "colab": {
          "base_uri": "https://localhost:8080/",
          "height": 283
        },
        "id": "AERRfip4jp3N",
        "outputId": "20f835d3-d1fe-4f8c-951f-16ce2437e71b"
      },
      "outputs": [
        {
          "data": {
            "image/png": "[encoded data removed]",
            "text/plain": [
              "<Figure size 432x288 with 1 Axes>"
            ]
          },
          "metadata": {
            "needs_background": "light"
          },
          "output_type": "display_data"
        }
      ],
      "source": [
        "# Plot survival for smokers vs nonsmokers\n",
        "predictor='Smoking'\n",
        "cat1='Smoker'\n",
        "cat0='Non-Smoker'\n",
        "plot_survival_twocat(df, predictor, cat1, cat0)"
      ]
    },
    {
      "cell_type": "code",
      "execution_count": 66,
      "metadata": {
        "colab": {
          "base_uri": "https://localhost:8080/",
          "height": 283
        },
        "id": "N9M4_A9UoO_A",
        "outputId": "411799fe-db9e-4392-f960-df77b1416b27"
      },
      "outputs": [
        {
          "data": {
            "image/png": "[encoded data removed]",
            "text/plain": [
              "<Figure size 432x288 with 1 Axes>"
            ]
          },
          "metadata": {
            "needs_background": "light"
          },
          "output_type": "display_data"
        }
      ],
      "source": [
        "# Plot survival for male vs female (hint: compare your figure with the survival functions\n",
        "# provided in the original paper; both should be almost identical)\n",
        "predictor='Gender'\n",
        "cat1='Male'\n",
        "cat0='Female'\n",
        "plot_survival_twocat(df, predictor, cat1, cat0)"
      ]
    },
    {
      "cell_type": "code",
      "execution_count": 67,
      "metadata": {
        "colab": {
          "base_uri": "https://localhost:8080/",
          "height": 283
        },
        "id": "LyHybRBeorqF",
        "outputId": "2c31a47c-993a-499c-efbe-45e1ec13042c"
      },
      "outputs": [
        {
          "data": {
            "image/png": "[encoded data removed]",
            "text/plain": [
              "<Figure size 432x288 with 1 Axes>"
            ]
          },
          "metadata": {
            "needs_background": "light"
          },
          "output_type": "display_data"
        }
      ],
      "source": [
        "# Plot survival for anaemia vs non-anaemia\n",
        "predictor='Anaemia'\n",
        "cat1='Anaemia'\n",
        "cat0='Non-anaemia'\n",
        "plot_survival_twocat(df, predictor, cat1, cat0)"
      ]
    },
    {
      "cell_type": "markdown",
      "metadata": {
        "id": "WWMfc_qprvaE"
      },
      "source": [
        "**TASK 3:** Ploting the cumulative Hazard using the Nelson-Aalen estimator "
      ]
    },
    {
      "cell_type": "code",
      "execution_count": 68,
      "metadata": {
        "id": "KPpg-7Ph7vsM"
      },
      "outputs": [],
      "source": [
        "# Plot the cumulative Hazard using the Nelson-Aalen estimator\n",
        "def cumulative_hazard_NA(df_inp, TimeColumn, EventColumn):\n",
        "  cumulative_hazard = [0]\n",
        "  p = 0\n",
        "  time = [p]\n",
        "  unique_followup_time = df_inp[TimeColumn].unique()\n",
        "  unique_followup_time = sorted(unique_followup_time)\n",
        "  for t in unique_followup_time:\n",
        "    n_survived = len(df_inp[(df_inp[TimeColumn]>=t)]) # People who survived for time greater than or equal to t \n",
        "    n_died = len(df_inp[(df_inp[TimeColumn]==t)&(df_inp[EventColumn]==1)]) # People who died at time t\n",
        "    p = p+float(n_died/n_survived) # Using Nelson-Aalen estimator formula\n",
        "    time.append(t)\n",
        "    cumulative_hazard.append(p)\n",
        "\n",
        "  dfH = pd.DataFrame(list(zip(time, cumulative_hazard)),\n",
        "                columns =['Time', 'Cumulative Hazard']) # Forming dataframe for time and hazard\n",
        "  return dfH\n",
        "\n",
        "# Plotting the hazard \n",
        "def plot_cumH(df_inp, TimeColumn, EventColumn, Name):\n",
        "  dfH = cumulative_hazard_NA(df_inp, TimeColumn, EventColumn)\n",
        "  plt.plot(dfH.iloc[1:,0],dfH.iloc[1:,1],label=Name)\n",
        "  plt.grid()\n",
        "  plt.xlabel('Time')\n",
        "  plt.ylabel('Cumulative Hazard')\n",
        "  plt.legend()\n",
        "  plt.show()\n"
      ]
    },
    {
      "cell_type": "code",
      "execution_count": 30,
      "metadata": {
        "colab": {
          "base_uri": "https://localhost:8080/",
          "height": 279
        },
        "id": "YHJHKhSdrA16",
        "outputId": "19ced462-2946-418f-8f65-05c8c23095ac"
      },
      "outputs": [
        {
          "data": {
            "image/png": "[encoded data removed]",
            "text/plain": [
              "<Figure size 432x288 with 1 Axes>"
            ]
          },
          "metadata": {
            "needs_background": "light"
          },
          "output_type": "display_data"
        }
      ],
      "source": [
        "# Plot the cumulative hazard of df\n",
        "TimeColumn='TIME'\n",
        "EventColumn='Event'\n",
        "plot_cumH(df, TimeColumn, EventColumn, 'All')"
      ]
    },
    {
      "cell_type": "markdown",
      "metadata": {
        "id": "0yA0q5GJtJNN"
      },
      "source": [
        "# 2. Multivariate analysis\n",
        "**Cox Proportional Hazards**\n",
        "\n",
        "Now, we are going to employ multivariate analysis using CPH to determine the survival funtions and the hazard ratio of different patients. \n",
        "We will employ [lifelines](https://lifelines.readthedocs.io/en/latest/index.html), a python survival analysis library."
      ]
    },
    {
      "cell_type": "markdown",
      "metadata": {
        "id": "7X3sm6NhvBI8"
      },
      "source": [
        "**TASK 4:** Dividing the dataframe into training and testing subsets."
      ]
    },
    {
      "cell_type": "code",
      "execution_count": 31,
      "metadata": {
        "id": "rH7BVlVAfK-O"
      },
      "outputs": [],
      "source": [
        "df_label=df[['Event','TIME']]\n",
        "df_predictors = df.drop(columns=['Event','TIME'])\n",
        "X_train, X_test, y_train, y_test = train_test_split(df_predictors, df_label, test_size=0.20,random_state=42) # Testing data = 20% and training data 80 %\n",
        "dfTrain = pd.concat([y_train, X_train], axis=1) # Train dataset\n",
        "dfTest = pd.concat([y_test,X_test],axis=1) # Test dataset\n"
      ]
    },
    {
      "cell_type": "markdown",
      "metadata": {
        "id": "eHKPnK7IvSyq"
      },
      "source": [
        "**TASK 5:** Calculating and printing the Cox proportional hazards coefficients of the training subset (dfTrain)."
      ]
    },
    {
      "cell_type": "code",
      "execution_count": 32,
      "metadata": {
        "colab": {
          "base_uri": "https://localhost:8080/",
          "height": 788
        },
        "id": "vVBiQaqHvR_p",
        "outputId": "74c7b323-59ef-4720-e1a0-e1e084f324ad"
      },
      "outputs": [
        {
          "data": {
            "text/html": [
              "<div>\n",
              "<style scoped>\n",
              "    .dataframe tbody tr th:only-of-type {\n",
              "        vertical-align: middle;\n",
              "    }\n",
              "\n",
              "    .dataframe tbody tr th {\n",
              "        vertical-align: top;\n",
              "    }\n",
              "\n",
              "    .dataframe thead th {\n",
              "        text-align: right;\n",
              "    }\n",
              "</style>\n",
              "<table border=\"1\" class=\"dataframe\">\n",
              "  <tbody>\n",
              "    <tr>\n",
              "      <th>model</th>\n",
              "      <td>lifelines.CoxPHFitter</td>\n",
              "    </tr>\n",
              "    <tr>\n",
              "      <th>duration col</th>\n",
              "      <td>'TIME'</td>\n",
              "    </tr>\n",
              "    <tr>\n",
              "      <th>event col</th>\n",
              "      <td>'Event'</td>\n",
              "    </tr>\n",
              "    <tr>\n",
              "      <th>baseline estimation</th>\n",
              "      <td>breslow</td>\n",
              "    </tr>\n",
              "    <tr>\n",
              "      <th>number of observations</th>\n",
              "      <td>239</td>\n",
              "    </tr>\n",
              "    <tr>\n",
              "      <th>number of events observed</th>\n",
              "      <td>75</td>\n",
              "    </tr>\n",
              "    <tr>\n",
              "      <th>partial log-likelihood</th>\n",
              "      <td>-351.44</td>\n",
              "    </tr>\n",
              "    <tr>\n",
              "      <th>time fit was run</th>\n",
              "      <td>2022-02-20 01:22:43 UTC</td>\n",
              "    </tr>\n",
              "  </tbody>\n",
              "</table>\n",
              "</div><table border=\"1\" class=\"dataframe\">\n",
              "  <thead>\n",
              "    <tr style=\"text-align: right;\">\n",
              "      <th style=\"min-width: 12px;\"></th>\n",
              "      <th style=\"min-width: 12px;\">coef</th>\n",
              "      <th style=\"min-width: 12px;\">exp(coef)</th>\n",
              "      <th style=\"min-width: 12px;\">se(coef)</th>\n",
              "      <th style=\"min-width: 12px;\">coef lower 95%</th>\n",
              "      <th style=\"min-width: 12px;\">coef upper 95%</th>\n",
              "      <th style=\"min-width: 12px;\">exp(coef) lower 95%</th>\n",
              "      <th style=\"min-width: 12px;\">exp(coef) upper 95%</th>\n",
              "      <th style=\"min-width: 12px;\">z</th>\n",
              "      <th style=\"min-width: 12px;\">p</th>\n",
              "      <th style=\"min-width: 12px;\">-log2(p)</th>\n",
              "    </tr>\n",
              "  </thead>\n",
              "  <tbody>\n",
              "    <tr>\n",
              "      <th>Gender</th>\n",
              "      <td>-0.28</td>\n",
              "      <td>0.76</td>\n",
              "      <td>0.28</td>\n",
              "      <td>-0.83</td>\n",
              "      <td>0.27</td>\n",
              "      <td>0.44</td>\n",
              "      <td>1.31</td>\n",
              "      <td>-1.00</td>\n",
              "      <td>0.32</td>\n",
              "      <td>1.66</td>\n",
              "    </tr>\n",
              "    <tr>\n",
              "      <th>Smoking</th>\n",
              "      <td>0.11</td>\n",
              "      <td>1.12</td>\n",
              "      <td>0.28</td>\n",
              "      <td>-0.44</td>\n",
              "      <td>0.67</td>\n",
              "      <td>0.64</td>\n",
              "      <td>1.96</td>\n",
              "      <td>0.40</td>\n",
              "      <td>0.69</td>\n",
              "      <td>0.54</td>\n",
              "    </tr>\n",
              "    <tr>\n",
              "      <th>Diabetes</th>\n",
              "      <td>-0.06</td>\n",
              "      <td>0.94</td>\n",
              "      <td>0.25</td>\n",
              "      <td>-0.56</td>\n",
              "      <td>0.43</td>\n",
              "      <td>0.57</td>\n",
              "      <td>1.54</td>\n",
              "      <td>-0.25</td>\n",
              "      <td>0.80</td>\n",
              "      <td>0.32</td>\n",
              "    </tr>\n",
              "    <tr>\n",
              "      <th>BP</th>\n",
              "      <td>0.66</td>\n",
              "      <td>1.93</td>\n",
              "      <td>0.25</td>\n",
              "      <td>0.17</td>\n",
              "      <td>1.15</td>\n",
              "      <td>1.18</td>\n",
              "      <td>3.16</td>\n",
              "      <td>2.63</td>\n",
              "      <td>0.01</td>\n",
              "      <td>6.86</td>\n",
              "    </tr>\n",
              "    <tr>\n",
              "      <th>Anaemia</th>\n",
              "      <td>0.31</td>\n",
              "      <td>1.37</td>\n",
              "      <td>0.25</td>\n",
              "      <td>-0.17</td>\n",
              "      <td>0.80</td>\n",
              "      <td>0.84</td>\n",
              "      <td>2.22</td>\n",
              "      <td>1.27</td>\n",
              "      <td>0.20</td>\n",
              "      <td>2.29</td>\n",
              "    </tr>\n",
              "    <tr>\n",
              "      <th>Age</th>\n",
              "      <td>0.05</td>\n",
              "      <td>1.05</td>\n",
              "      <td>0.01</td>\n",
              "      <td>0.03</td>\n",
              "      <td>0.07</td>\n",
              "      <td>1.03</td>\n",
              "      <td>1.07</td>\n",
              "      <td>4.47</td>\n",
              "      <td>&lt;0.005</td>\n",
              "      <td>16.98</td>\n",
              "    </tr>\n",
              "    <tr>\n",
              "      <th>Ejection.Fraction</th>\n",
              "      <td>-0.04</td>\n",
              "      <td>0.96</td>\n",
              "      <td>0.01</td>\n",
              "      <td>-0.07</td>\n",
              "      <td>-0.02</td>\n",
              "      <td>0.93</td>\n",
              "      <td>0.98</td>\n",
              "      <td>-3.65</td>\n",
              "      <td>&lt;0.005</td>\n",
              "      <td>11.87</td>\n",
              "    </tr>\n",
              "    <tr>\n",
              "      <th>Sodium</th>\n",
              "      <td>-0.03</td>\n",
              "      <td>0.97</td>\n",
              "      <td>0.03</td>\n",
              "      <td>-0.09</td>\n",
              "      <td>0.03</td>\n",
              "      <td>0.92</td>\n",
              "      <td>1.03</td>\n",
              "      <td>-0.91</td>\n",
              "      <td>0.36</td>\n",
              "      <td>1.47</td>\n",
              "    </tr>\n",
              "    <tr>\n",
              "      <th>Creatinine</th>\n",
              "      <td>0.28</td>\n",
              "      <td>1.32</td>\n",
              "      <td>0.09</td>\n",
              "      <td>0.09</td>\n",
              "      <td>0.46</td>\n",
              "      <td>1.09</td>\n",
              "      <td>1.58</td>\n",
              "      <td>2.91</td>\n",
              "      <td>&lt;0.005</td>\n",
              "      <td>8.12</td>\n",
              "    </tr>\n",
              "    <tr>\n",
              "      <th>Pletelets</th>\n",
              "      <td>-0.00</td>\n",
              "      <td>1.00</td>\n",
              "      <td>0.00</td>\n",
              "      <td>-0.00</td>\n",
              "      <td>0.00</td>\n",
              "      <td>1.00</td>\n",
              "      <td>1.00</td>\n",
              "      <td>-0.25</td>\n",
              "      <td>0.81</td>\n",
              "      <td>0.31</td>\n",
              "    </tr>\n",
              "    <tr>\n",
              "      <th>CPK</th>\n",
              "      <td>0.00</td>\n",
              "      <td>1.00</td>\n",
              "      <td>0.00</td>\n",
              "      <td>-0.00</td>\n",
              "      <td>0.00</td>\n",
              "      <td>1.00</td>\n",
              "      <td>1.00</td>\n",
              "      <td>1.67</td>\n",
              "      <td>0.10</td>\n",
              "      <td>3.39</td>\n",
              "    </tr>\n",
              "  </tbody>\n",
              "</table><br><div>\n",
              "<style scoped>\n",
              "    .dataframe tbody tr th:only-of-type {\n",
              "        vertical-align: middle;\n",
              "    }\n",
              "\n",
              "    .dataframe tbody tr th {\n",
              "        vertical-align: top;\n",
              "    }\n",
              "\n",
              "    .dataframe thead th {\n",
              "        text-align: right;\n",
              "    }\n",
              "</style>\n",
              "<table border=\"1\" class=\"dataframe\">\n",
              "  <tbody>\n",
              "    <tr>\n",
              "      <th>Concordance</th>\n",
              "      <td>0.73</td>\n",
              "    </tr>\n",
              "    <tr>\n",
              "      <th>Partial AIC</th>\n",
              "      <td>724.88</td>\n",
              "    </tr>\n",
              "    <tr>\n",
              "      <th>log-likelihood ratio test</th>\n",
              "      <td>61.06 on 11 df</td>\n",
              "    </tr>\n",
              "    <tr>\n",
              "      <th>-log2(p) of ll-ratio test</th>\n",
              "      <td>27.34</td>\n",
              "    </tr>\n",
              "  </tbody>\n",
              "</table>\n",
              "</div>"
            ],
            "text/latex": [
              "\\begin{tabular}{lrrrrrrrrrr}\n",
              "\\toprule\n",
              "{} &  coef &  exp(coef) &  se(coef) &  coef lower 95\\% &  coef upper 95\\% &  exp(coef) lower 95\\% &  exp(coef) upper 95\\% &     z &    p &  -log2(p) \\\\\n",
              "covariate         &       &            &           &                 &                 &                      &                      &       &      &           \\\\\n",
              "\\midrule\n",
              "Gender            & -0.28 &       0.76 &      0.28 &           -0.83 &            0.27 &                 0.44 &                 1.31 & -1.00 & 0.32 &      1.66 \\\\\n",
              "Smoking           &  0.11 &       1.12 &      0.28 &           -0.44 &            0.67 &                 0.64 &                 1.96 &  0.40 & 0.69 &      0.54 \\\\\n",
              "Diabetes          & -0.06 &       0.94 &      0.25 &           -0.56 &            0.43 &                 0.57 &                 1.54 & -0.25 & 0.80 &      0.32 \\\\\n",
              "BP                &  0.66 &       1.93 &      0.25 &            0.17 &            1.15 &                 1.18 &                 3.16 &  2.63 & 0.01 &      6.86 \\\\\n",
              "Anaemia           &  0.31 &       1.37 &      0.25 &           -0.17 &            0.80 &                 0.84 &                 2.22 &  1.27 & 0.20 &      2.29 \\\\\n",
              "Age               &  0.05 &       1.05 &      0.01 &            0.03 &            0.07 &                 1.03 &                 1.07 &  4.47 & 0.00 &     16.98 \\\\\n",
              "Ejection.Fraction & -0.04 &       0.96 &      0.01 &           -0.07 &           -0.02 &                 0.93 &                 0.98 & -3.65 & 0.00 &     11.87 \\\\\n",
              "Sodium            & -0.03 &       0.97 &      0.03 &           -0.09 &            0.03 &                 0.92 &                 1.03 & -0.91 & 0.36 &      1.47 \\\\\n",
              "Creatinine        &  0.28 &       1.32 &      0.09 &            0.09 &            0.46 &                 1.09 &                 1.58 &  2.91 & 0.00 &      8.12 \\\\\n",
              "Pletelets         & -0.00 &       1.00 &      0.00 &           -0.00 &            0.00 &                 1.00 &                 1.00 & -0.25 & 0.81 &      0.31 \\\\\n",
              "CPK               &  0.00 &       1.00 &      0.00 &           -0.00 &            0.00 &                 1.00 &                 1.00 &  1.67 & 0.10 &      3.39 \\\\\n",
              "\\bottomrule\n",
              "\\end{tabular}\n"
            ],
            "text/plain": [
              "<lifelines.CoxPHFitter: fitted with 239 total observations, 164 right-censored observations>\n",
              "             duration col = 'TIME'\n",
              "                event col = 'Event'\n",
              "      baseline estimation = breslow\n",
              "   number of observations = 239\n",
              "number of events observed = 75\n",
              "   partial log-likelihood = -351.44\n",
              "         time fit was run = 2022-02-20 01:22:43 UTC\n",
              "\n",
              "---\n",
              "                    coef  exp(coef)   se(coef)   coef lower 95%   coef upper 95%  exp(coef) lower 95%  exp(coef) upper 95%\n",
              "covariate                                                                                                                 \n",
              "Gender             -0.28       0.76       0.28            -0.83             0.27                 0.44                 1.31\n",
              "Smoking             0.11       1.12       0.28            -0.44             0.67                 0.64                 1.96\n",
              "Diabetes           -0.06       0.94       0.25            -0.56             0.43                 0.57                 1.54\n",
              "BP                  0.66       1.93       0.25             0.17             1.15                 1.18                 3.16\n",
              "Anaemia             0.31       1.37       0.25            -0.17             0.80                 0.84                 2.22\n",
              "Age                 0.05       1.05       0.01             0.03             0.07                 1.03                 1.07\n",
              "Ejection.Fraction  -0.04       0.96       0.01            -0.07            -0.02                 0.93                 0.98\n",
              "Sodium             -0.03       0.97       0.03            -0.09             0.03                 0.92                 1.03\n",
              "Creatinine          0.28       1.32       0.09             0.09             0.46                 1.09                 1.58\n",
              "Pletelets          -0.00       1.00       0.00            -0.00             0.00                 1.00                 1.00\n",
              "CPK                 0.00       1.00       0.00            -0.00             0.00                 1.00                 1.00\n",
              "\n",
              "                      z      p   -log2(p)\n",
              "covariate                                \n",
              "Gender            -1.00   0.32       1.66\n",
              "Smoking            0.40   0.69       0.54\n",
              "Diabetes          -0.25   0.80       0.32\n",
              "BP                 2.63   0.01       6.86\n",
              "Anaemia            1.27   0.20       2.29\n",
              "Age                4.47 <0.005      16.98\n",
              "Ejection.Fraction -3.65 <0.005      11.87\n",
              "Sodium            -0.91   0.36       1.47\n",
              "Creatinine         2.91 <0.005       8.12\n",
              "Pletelets         -0.25   0.81       0.31\n",
              "CPK                1.67   0.10       3.39\n",
              "---\n",
              "Concordance = 0.73\n",
              "Partial AIC = 724.88\n",
              "log-likelihood ratio test = 61.06 on 11 df\n",
              "-log2(p) of ll-ratio test = 27.34"
            ]
          },
          "metadata": {},
          "output_type": "display_data"
        }
      ],
      "source": [
        "# Calculate and print the Cox proportional hazards coefficients\n",
        "cph = CoxPHFitter() # Using cox proportional hazard function in lifelines library\n",
        "cph.fit(dfTrain, 'TIME', event_col='Event')\n",
        "cph.print_summary()\n"
      ]
    },
    {
      "cell_type": "markdown",
      "metadata": {
        "id": "s3HsaNTzxstw"
      },
      "source": [
        "**TASK 6:** Ploting the survival function of the three first participants in the test subset."
      ]
    },
    {
      "cell_type": "code",
      "execution_count": 33,
      "metadata": {
        "colab": {
          "base_uri": "https://localhost:8080/",
          "height": 296
        },
        "id": "lhItIS2Z0GpB",
        "outputId": "20548153-1633-4617-e6a8-9ebecc529bb4"
      },
      "outputs": [
        {
          "data": {
            "text/plain": [
              "Text(0, 0.5, 'Probabilty of survival')"
            ]
          },
          "execution_count": 33,
          "metadata": {},
          "output_type": "execute_result"
        },
        {
          "data": {
            "image/png": "[encoded data removed]",
            "text/plain": [
              "<Figure size 432x288 with 1 Axes>"
            ]
          },
          "metadata": {
            "needs_background": "light"
          },
          "output_type": "display_data"
        }
      ],
      "source": [
        "# Plot the survival function of the three first participants in the test subset\n",
        "participant1=0 # Participant's index in the testing dataframe\n",
        "participant2=1\n",
        "participant3=2\n",
        "rows_selected = dfTest.iloc[[0,1,2], 2:]\n",
        "cph.predict_survival_function(rows_selected).plot()\n",
        "plt.legend(labels=['Participant 1','Participant 2','Participant 3'])\n",
        "plt.grid()\n",
        "plt.xlabel('Time')\n",
        "plt.ylabel('Probabilty of survival')\n",
        "  # YOUR CODE GOES HERE\n"
      ]
    },
    {
      "cell_type": "markdown",
      "metadata": {
        "id": "qrDycAjL3hGX"
      },
      "source": [
        "As we can observe, the survival functions are proportional"
      ]
    },
    {
      "cell_type": "markdown",
      "metadata": {
        "id": "FRMrOrLMx709"
      },
      "source": [
        "**TASK 7:** Creating a function that calculates the hazard ratio between two patients. This will tell us which of the two patients is at a higher risk."
      ]
    },
    {
      "cell_type": "code",
      "execution_count": 34,
      "metadata": {
        "id": "zP348CZWeIG7"
      },
      "outputs": [],
      "source": [
        "# Create a function that calculates the hazard ratio between two patients. This will tell us which patient is at a higher risk.\n",
        "def hazard_ratio(df_inp, participant1, participant2, cph_in):\n",
        "    import math\n",
        "    sum_1 = sum_2 = 0\n",
        "    participant_1 = df_inp.iloc[participant1,2:]\n",
        "    participant_2 = df_inp.iloc[participant2,2:]\n",
        "    params = cph_in.params_.values\n",
        "    for i in range(len(params)):\n",
        "      sum_1 = sum_1 + (participant_1[i]*params[i]) #Multiplying coef with corresponding predictot\n",
        "      sum_2 = sum_2 + (participant_2[i]*params[i])\n",
        "    theta_1 = math.exp(sum_1)\n",
        "    theta_2 = math.exp(sum_2)\n",
        "    HR = theta_1/theta_2\n",
        "    return HR\n",
        "\n",
        "\n",
        "\n"
      ]
    },
    {
      "cell_type": "code",
      "execution_count": 35,
      "metadata": {
        "colab": {
          "base_uri": "https://localhost:8080/"
        },
        "id": "X_uiybo2e2NW",
        "outputId": "66243a3a-f534-4b4b-a46c-8b6c13c28161"
      },
      "outputs": [
        {
          "name": "stdout",
          "output_type": "stream",
          "text": [
            "Participant 1 vs participant 2 Hazard Ratio: 5.078482339629227\n"
          ]
        }
      ],
      "source": [
        "print('Participant 1 vs participant 2 Hazard Ratio: ' + str(hazard_ratio(df, 2, 33,cph)))"
      ]
    },
    {
      "cell_type": "markdown",
      "metadata": {
        "id": "Wk5SM6V1zE6Q"
      },
      "source": [
        "**TASK 8:** Creating a function to calculate the concordance index of the CPH model already trained, employing the testing data."
      ]
    },
    {
      "cell_type": "code",
      "execution_count": 36,
      "metadata": {
        "id": "j5VoeJJ7n9Gg"
      },
      "outputs": [],
      "source": [
        "# concordance index function\n",
        "def c_index_mlma(df_inp, TimeColumn, EventColumn, cph_in):\n",
        "    co_pair = 0\n",
        "    disco_pair = 0\n",
        "    for i in range(len(df_inp)):\n",
        "      for j in range(i+1,len(df_inp)):\n",
        "          if (df_inp['Event'].iloc[i]==1) & (df_inp['Event'].iloc[j]==1): # Checking if event is one for both pairs \n",
        "            h =hazard_ratio(df_inp, i, j,cph_in)\n",
        "            if (h>1) & ((df_inp['TIME'].iloc[i])<(df_inp['TIME'].iloc[j])): # Checking if risk is higher for patient with t less \n",
        "                      co_pair +=1\n",
        "            elif (h<1) & ((df_inp['TIME'].iloc[i])>(df_inp['TIME'].iloc[j])):\n",
        "                      co_pair+=1\n",
        "            elif (h == 1) & ((df_inp['TIME'].iloc[i])==(df_inp['TIME'].iloc[j])):\n",
        "                      co_pair+=1\n",
        "            else:\n",
        "                      disco_pair+=1                                           # If not then discordant pair\n",
        "          elif (df_inp['Event'].iloc[i]==0) & (df_inp['Event'].iloc[j]==1):   # Condition when one data is censored, (0, 1) pair \n",
        "            h =hazard_ratio(df_inp, i, j,cph_in)\n",
        "            if (h<1) & ((df_inp['TIME'].iloc[i])>(df_inp['TIME'].iloc[j])):\n",
        "                      co_pair +=1\n",
        "            elif (h>1)&((df_inp['TIME'].iloc[i])>(df_inp['TIME'].iloc[j])):\n",
        "                      disco_pair+=1\n",
        "          elif (df_inp['Event'].iloc[i]==1) & (df_inp['Event'].iloc[j]==0):   # Condition when one data is censored, (1, 0) pair \n",
        "            h =hazard_ratio(df_inp, i, j,cph_in)\n",
        "            if (h>1) & ((df_inp['TIME'].iloc[i])<(df_inp['TIME'].iloc[j])):\n",
        "                      co_pair +=1\n",
        "            elif (h<1)&((df_inp['TIME'].iloc[i])<(df_inp['TIME'].iloc[j])):\n",
        "                      disco_pair+=1\n",
        "\n",
        "    CI = co_pair/(co_pair+disco_pair)\n",
        "\n",
        "\n",
        "\n",
        "    return CI   "
      ]
    },
    {
      "cell_type": "code",
      "execution_count": 37,
      "metadata": {
        "colab": {
          "base_uri": "https://localhost:8080/"
        },
        "id": "xrqoV6ayrHuE",
        "outputId": "a85ed21b-58a0-4c32-dfd3-7e4c470b88c7"
      },
      "outputs": [
        {
          "name": "stdout",
          "output_type": "stream",
          "text": [
            "0.7320351279114166\n"
          ]
        }
      ],
      "source": [
        "# Concordance Index of the training data\n",
        "TimeColumn='TIME'\n",
        "EventColumn='Event'\n",
        "CI=c_index_mlma(dfTrain, TimeColumn, EventColumn, cph)\n",
        "print(CI)"
      ]
    },
    {
      "cell_type": "code",
      "execution_count": 38,
      "metadata": {
        "colab": {
          "base_uri": "https://localhost:8080/"
        },
        "id": "tlD4IDrZhxF6",
        "outputId": "8d8d593b-20df-4720-c4b3-729e985870c7"
      },
      "outputs": [
        {
          "name": "stdout",
          "output_type": "stream",
          "text": [
            "0.7331093976639438\n"
          ]
        }
      ],
      "source": [
        "# The result sholud be similar to the CI calculated by the lifelines library (+/- 0.015)\n",
        "print(cph.concordance_index_)"
      ]
    },
    {
      "cell_type": "code",
      "execution_count": 39,
      "metadata": {
        "colab": {
          "base_uri": "https://localhost:8080/"
        },
        "id": "_okvL81FsLZV",
        "outputId": "78904700-0b23-4a2f-b75f-9cfd137e409d"
      },
      "outputs": [
        {
          "name": "stdout",
          "output_type": "stream",
          "text": [
            "0.7694038245219348\n"
          ]
        }
      ],
      "source": [
        "# Concordance Index of the testing data\n",
        "TimeColumn='TIME'\n",
        "EventColumn='Event'\n",
        "CI=c_index_mlma(dfTest, TimeColumn, EventColumn, cph)\n",
        "print(CI)"
      ]
    },
    {
      "cell_type": "markdown",
      "metadata": {
        "id": "xCxPloGu1Otd"
      },
      "source": [
        "**Survival forests**\n",
        "\n",
        "Now, we are going to use a different type of multivariate analysis to calculate survival functions: Random Survival Forests. To perform this type of analysis, we will employ the [scikit-survival library](https://scikit-survival.readthedocs.io/en/stable/index.html). \n"
      ]
    },
    {
      "cell_type": "markdown",
      "metadata": {
        "id": "dNNOxZDV4osW"
      },
      "source": [
        "**TASK 9:** Training a random survival forest using the training subset."
      ]
    },
    {
      "cell_type": "code",
      "execution_count": 40,
      "metadata": {
        "id": "2tIaOilspOoM"
      },
      "outputs": [],
      "source": [
        "# Creating random survival forest model\n",
        "y_train['Event']=y_train['Event'].astype(bool)\n",
        "y_train_struct = y_train.to_records(index=False) #Converting train labels to structured array\n",
        "estimator = RandomSurvivalForest().fit(X_train, y_train_struct)"
      ]
    },
    {
      "cell_type": "markdown",
      "metadata": {
        "id": "b5zjvAlP41r4"
      },
      "source": [
        "**TASK 10:** Calculating the C-I of the model when applied to the testing subset. Use the scikit-survival scoring functions to obtain the index. Comparing this result with the C-I obtained with the CPH models."
      ]
    },
    {
      "cell_type": "code",
      "execution_count": 41,
      "metadata": {
        "colab": {
          "base_uri": "https://localhost:8080/"
        },
        "id": "OuiBxBkX93oK",
        "outputId": "3cf71528-12ed-43c8-b69a-99113aebd5e2"
      },
      "outputs": [
        {
          "data": {
            "text/plain": [
              "0.7739032620922385"
            ]
          },
          "execution_count": 41,
          "metadata": {},
          "output_type": "execute_result"
        }
      ],
      "source": [
        "\n",
        "y_test['Event']=y_test['Event'].astype(bool)\n",
        "y_test_struct = y_test.to_records(index=False)\n",
        "estimator.score(X_test,y_test_struct) # Concordance Index for testing subset "
      ]
    },
    {
      "cell_type": "markdown",
      "metadata": {
        "id": "MreLuxgV5Wp4"
      },
      "source": [
        "**TASK 11:** Ploting the survival function of the three first patients in the testing subset. Comparing these survival functions with those obtained with the CPH models."
      ]
    },
    {
      "cell_type": "code",
      "execution_count": 69,
      "metadata": {
        "colab": {
          "base_uri": "https://localhost:8080/",
          "height": 279
        },
        "id": "F_xDq4QLvLu6",
        "outputId": "ad54892c-46b6-4b93-a1dd-054a26131d0a"
      },
      "outputs": [
        {
          "data": {
            "image/png": "[encoded data removed]",
            "text/plain": [
              "<Figure size 432x288 with 1 Axes>"
            ]
          },
          "metadata": {
            "needs_background": "light"
          },
          "output_type": "display_data"
        }
      ],
      "source": [
        "surv = estimator.predict_survival_function(X_test.iloc[[0,1,2],:], return_array=True)\n",
        "for i, s in enumerate(surv):\n",
        "    plt.step(estimator.event_times_, s, where=\"post\", label=str(i))\n",
        "plt.ylabel(\"Survival probability\")\n",
        "plt.xlabel(\"Time\")\n",
        "plt.legend()\n",
        "plt.grid(True)"
      ]
    },
    {
      "cell_type": "markdown",
      "metadata": {
        "id": "yQVVEb0k3nFQ"
      },
      "source": [
        "As we can observe, these functions are not proportional. Their shape depends on the predictor variables of each patient."
      ]
    },
    {
      "cell_type": "markdown",
      "metadata": {},
      "source": []
    }
  ],
  "metadata": {
    "colab": {
      "collapsed_sections": [],
      "name": "Lab3_Prognosis_cvania1.ipynb",
      "provenance": []
    },
    "kernelspec": {
      "display_name": "Python 3.9.7 ('base')",
      "language": "python",
      "name": "python3"
    },
    "language_info": {
      "name": "python",
      "version": "3.9.7"
    },
    "vscode": {
      "interpreter": {
        "hash": "e74f57254c99d7d2003160e0e5db67f9903fd43a39054be0bb8f20d7ea177a55"
      }
    }
  },
  "nbformat": 4,
  "nbformat_minor": 0
}
